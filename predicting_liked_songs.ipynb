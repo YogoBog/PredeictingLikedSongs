{
  "cells": [
    {
      "cell_type": "markdown",
      "metadata": {
        "id": "view-in-github",
        "colab_type": "text"
      },
      "source": [
        "<a href=\"https://colab.research.google.com/github/YogoBog/PythonMLProjects/blob/main/predicting_liked_songs.ipynb\" target=\"_parent\"><img src=\"https://colab.research.google.com/assets/colab-badge.svg\" alt=\"Open In Colab\"/></a>"
      ]
    },
    {
      "cell_type": "markdown",
      "metadata": {
        "id": "gpD9vuUbgsVI"
      },
      "source": [
        "<div dir=\"rtl\">\n",
        "\n",
        "#<font color='#6400E4'><b>שלב 1 - טעינת הנתונים וחקירת הנתונים הגולמיים (Raw data)</b></font></div>\n"
      ]
    },
    {
      "cell_type": "markdown",
      "metadata": {
        "id": "OTAbZwq7FcYz"
      },
      "source": [
        "<div dir=\"rtl\">\n",
        "\n",
        "\n",
        "טענו את הקובץ [liked_songs.csv](https://drive.google.com/file/d/1nGHsep-RVgSdd7wwQghMV2_31zq14RS_/view?usp=sharing)\n",
        "\n"
      ]
    },
    {
      "cell_type": "code",
      "execution_count": null,
      "metadata": {
        "colab": {
          "base_uri": "https://localhost:8080/"
        },
        "id": "vFyJv7_YdpNx",
        "outputId": "f7f6de15-dd10-4175-a825-ea34310e0fc8"
      },
      "outputs": [
        {
          "output_type": "stream",
          "name": "stdout",
          "text": [
            "Mounted at /content/drive\n"
          ]
        }
      ],
      "source": [
        "from google.colab import drive\n",
        "drive.mount('/content/drive')\n"
      ]
    },
    {
      "cell_type": "code",
      "execution_count": null,
      "metadata": {
        "id": "VxiLlXECeHt2"
      },
      "outputs": [],
      "source": [
        "import pandas as pd\n",
        "file1 = open('/content/drive/MyDrive/liked_songs.csv')\n",
        "df = pd.read_csv(file1)\n"
      ]
    },
    {
      "cell_type": "code",
      "execution_count": null,
      "metadata": {
        "colab": {
          "base_uri": "https://localhost:8080/",
          "height": 206
        },
        "id": "pn4qAjW6egaG",
        "outputId": "20a6f6e7-1be5-4e6a-c17f-4fb30b6e8e1e"
      },
      "outputs": [
        {
          "output_type": "execute_result",
          "data": {
            "text/plain": [
              "   danceability  energy  key  loudness  mode  speechiness  acousticness  \\\n",
              "0         0.803  0.6240    7    -6.764   0.0       0.0477         0.451   \n",
              "1         0.762  0.7030   10    -7.951   0.0       0.3060         0.206   \n",
              "2         0.261  0.0149    1   -27.528   1.0       0.0419         0.992   \n",
              "3         0.722  0.7360    3    -6.994   0.0       0.0585         0.431   \n",
              "4         0.787  0.5720    1    -7.516   1.0       0.2220         0.145   \n",
              "\n",
              "   instrumentalness  liveness  valence    tempo  duration_ms  time_signature  \\\n",
              "0          0.000734    0.1000   0.6280   95.968       304524               4   \n",
              "1          0.000000    0.0912   0.5190  151.329       247178               4   \n",
              "2          0.897000    0.1020   0.0382   75.296       286987               4   \n",
              "3          0.000001    0.1230   0.5820   89.860       208920               4   \n",
              "4          0.000000    0.0753   0.6470  155.117       179413               4   \n",
              "\n",
              "   liked  \n",
              "0      0  \n",
              "1      1  \n",
              "2      0  \n",
              "3      1  \n",
              "4      1  "
            ],
            "text/html": [
              "\n",
              "  <div id=\"df-c7649586-a21c-4c4c-943e-9020ab960125\">\n",
              "    <div class=\"colab-df-container\">\n",
              "      <div>\n",
              "<style scoped>\n",
              "    .dataframe tbody tr th:only-of-type {\n",
              "        vertical-align: middle;\n",
              "    }\n",
              "\n",
              "    .dataframe tbody tr th {\n",
              "        vertical-align: top;\n",
              "    }\n",
              "\n",
              "    .dataframe thead th {\n",
              "        text-align: right;\n",
              "    }\n",
              "</style>\n",
              "<table border=\"1\" class=\"dataframe\">\n",
              "  <thead>\n",
              "    <tr style=\"text-align: right;\">\n",
              "      <th></th>\n",
              "      <th>danceability</th>\n",
              "      <th>energy</th>\n",
              "      <th>key</th>\n",
              "      <th>loudness</th>\n",
              "      <th>mode</th>\n",
              "      <th>speechiness</th>\n",
              "      <th>acousticness</th>\n",
              "      <th>instrumentalness</th>\n",
              "      <th>liveness</th>\n",
              "      <th>valence</th>\n",
              "      <th>tempo</th>\n",
              "      <th>duration_ms</th>\n",
              "      <th>time_signature</th>\n",
              "      <th>liked</th>\n",
              "    </tr>\n",
              "  </thead>\n",
              "  <tbody>\n",
              "    <tr>\n",
              "      <th>0</th>\n",
              "      <td>0.803</td>\n",
              "      <td>0.6240</td>\n",
              "      <td>7</td>\n",
              "      <td>-6.764</td>\n",
              "      <td>0.0</td>\n",
              "      <td>0.0477</td>\n",
              "      <td>0.451</td>\n",
              "      <td>0.000734</td>\n",
              "      <td>0.1000</td>\n",
              "      <td>0.6280</td>\n",
              "      <td>95.968</td>\n",
              "      <td>304524</td>\n",
              "      <td>4</td>\n",
              "      <td>0</td>\n",
              "    </tr>\n",
              "    <tr>\n",
              "      <th>1</th>\n",
              "      <td>0.762</td>\n",
              "      <td>0.7030</td>\n",
              "      <td>10</td>\n",
              "      <td>-7.951</td>\n",
              "      <td>0.0</td>\n",
              "      <td>0.3060</td>\n",
              "      <td>0.206</td>\n",
              "      <td>0.000000</td>\n",
              "      <td>0.0912</td>\n",
              "      <td>0.5190</td>\n",
              "      <td>151.329</td>\n",
              "      <td>247178</td>\n",
              "      <td>4</td>\n",
              "      <td>1</td>\n",
              "    </tr>\n",
              "    <tr>\n",
              "      <th>2</th>\n",
              "      <td>0.261</td>\n",
              "      <td>0.0149</td>\n",
              "      <td>1</td>\n",
              "      <td>-27.528</td>\n",
              "      <td>1.0</td>\n",
              "      <td>0.0419</td>\n",
              "      <td>0.992</td>\n",
              "      <td>0.897000</td>\n",
              "      <td>0.1020</td>\n",
              "      <td>0.0382</td>\n",
              "      <td>75.296</td>\n",
              "      <td>286987</td>\n",
              "      <td>4</td>\n",
              "      <td>0</td>\n",
              "    </tr>\n",
              "    <tr>\n",
              "      <th>3</th>\n",
              "      <td>0.722</td>\n",
              "      <td>0.7360</td>\n",
              "      <td>3</td>\n",
              "      <td>-6.994</td>\n",
              "      <td>0.0</td>\n",
              "      <td>0.0585</td>\n",
              "      <td>0.431</td>\n",
              "      <td>0.000001</td>\n",
              "      <td>0.1230</td>\n",
              "      <td>0.5820</td>\n",
              "      <td>89.860</td>\n",
              "      <td>208920</td>\n",
              "      <td>4</td>\n",
              "      <td>1</td>\n",
              "    </tr>\n",
              "    <tr>\n",
              "      <th>4</th>\n",
              "      <td>0.787</td>\n",
              "      <td>0.5720</td>\n",
              "      <td>1</td>\n",
              "      <td>-7.516</td>\n",
              "      <td>1.0</td>\n",
              "      <td>0.2220</td>\n",
              "      <td>0.145</td>\n",
              "      <td>0.000000</td>\n",
              "      <td>0.0753</td>\n",
              "      <td>0.6470</td>\n",
              "      <td>155.117</td>\n",
              "      <td>179413</td>\n",
              "      <td>4</td>\n",
              "      <td>1</td>\n",
              "    </tr>\n",
              "  </tbody>\n",
              "</table>\n",
              "</div>\n",
              "      <button class=\"colab-df-convert\" onclick=\"convertToInteractive('df-c7649586-a21c-4c4c-943e-9020ab960125')\"\n",
              "              title=\"Convert this dataframe to an interactive table.\"\n",
              "              style=\"display:none;\">\n",
              "        \n",
              "  <svg xmlns=\"http://www.w3.org/2000/svg\" height=\"24px\"viewBox=\"0 0 24 24\"\n",
              "       width=\"24px\">\n",
              "    <path d=\"M0 0h24v24H0V0z\" fill=\"none\"/>\n",
              "    <path d=\"M18.56 5.44l.94 2.06.94-2.06 2.06-.94-2.06-.94-.94-2.06-.94 2.06-2.06.94zm-11 1L8.5 8.5l.94-2.06 2.06-.94-2.06-.94L8.5 2.5l-.94 2.06-2.06.94zm10 10l.94 2.06.94-2.06 2.06-.94-2.06-.94-.94-2.06-.94 2.06-2.06.94z\"/><path d=\"M17.41 7.96l-1.37-1.37c-.4-.4-.92-.59-1.43-.59-.52 0-1.04.2-1.43.59L10.3 9.45l-7.72 7.72c-.78.78-.78 2.05 0 2.83L4 21.41c.39.39.9.59 1.41.59.51 0 1.02-.2 1.41-.59l7.78-7.78 2.81-2.81c.8-.78.8-2.07 0-2.86zM5.41 20L4 18.59l7.72-7.72 1.47 1.35L5.41 20z\"/>\n",
              "  </svg>\n",
              "      </button>\n",
              "      \n",
              "  <style>\n",
              "    .colab-df-container {\n",
              "      display:flex;\n",
              "      flex-wrap:wrap;\n",
              "      gap: 12px;\n",
              "    }\n",
              "\n",
              "    .colab-df-convert {\n",
              "      background-color: #E8F0FE;\n",
              "      border: none;\n",
              "      border-radius: 50%;\n",
              "      cursor: pointer;\n",
              "      display: none;\n",
              "      fill: #1967D2;\n",
              "      height: 32px;\n",
              "      padding: 0 0 0 0;\n",
              "      width: 32px;\n",
              "    }\n",
              "\n",
              "    .colab-df-convert:hover {\n",
              "      background-color: #E2EBFA;\n",
              "      box-shadow: 0px 1px 2px rgba(60, 64, 67, 0.3), 0px 1px 3px 1px rgba(60, 64, 67, 0.15);\n",
              "      fill: #174EA6;\n",
              "    }\n",
              "\n",
              "    [theme=dark] .colab-df-convert {\n",
              "      background-color: #3B4455;\n",
              "      fill: #D2E3FC;\n",
              "    }\n",
              "\n",
              "    [theme=dark] .colab-df-convert:hover {\n",
              "      background-color: #434B5C;\n",
              "      box-shadow: 0px 1px 3px 1px rgba(0, 0, 0, 0.15);\n",
              "      filter: drop-shadow(0px 1px 2px rgba(0, 0, 0, 0.3));\n",
              "      fill: #FFFFFF;\n",
              "    }\n",
              "  </style>\n",
              "\n",
              "      <script>\n",
              "        const buttonEl =\n",
              "          document.querySelector('#df-c7649586-a21c-4c4c-943e-9020ab960125 button.colab-df-convert');\n",
              "        buttonEl.style.display =\n",
              "          google.colab.kernel.accessAllowed ? 'block' : 'none';\n",
              "\n",
              "        async function convertToInteractive(key) {\n",
              "          const element = document.querySelector('#df-c7649586-a21c-4c4c-943e-9020ab960125');\n",
              "          const dataTable =\n",
              "            await google.colab.kernel.invokeFunction('convertToInteractive',\n",
              "                                                     [key], {});\n",
              "          if (!dataTable) return;\n",
              "\n",
              "          const docLinkHtml = 'Like what you see? Visit the ' +\n",
              "            '<a target=\"_blank\" href=https://colab.research.google.com/notebooks/data_table.ipynb>data table notebook</a>'\n",
              "            + ' to learn more about interactive tables.';\n",
              "          element.innerHTML = '';\n",
              "          dataTable['output_type'] = 'display_data';\n",
              "          await google.colab.output.renderOutput(dataTable, element);\n",
              "          const docLink = document.createElement('div');\n",
              "          docLink.innerHTML = docLinkHtml;\n",
              "          element.appendChild(docLink);\n",
              "        }\n",
              "      </script>\n",
              "    </div>\n",
              "  </div>\n",
              "  "
            ]
          },
          "metadata": {},
          "execution_count": 3
        }
      ],
      "source": [
        "df.head(5)"
      ]
    },
    {
      "cell_type": "code",
      "execution_count": null,
      "metadata": {
        "colab": {
          "base_uri": "https://localhost:8080/",
          "height": 364
        },
        "id": "DLHahWsNg7Hf",
        "outputId": "e6b141d1-7625-4ddc-b2ee-04c2142db06f"
      },
      "outputs": [
        {
          "output_type": "execute_result",
          "data": {
            "text/plain": [
              "       danceability      energy         key    loudness        mode  \\\n",
              "count    193.000000  194.000000  195.000000  193.000000  194.000000   \n",
              "mean       0.636062    0.637202    5.497436   -9.508212    0.541237   \n",
              "std        0.217315    0.260200    3.415209    6.553701    0.499586   \n",
              "min        0.130000    0.002400    0.000000  -42.261000    0.000000   \n",
              "25%        0.462000    0.533250    2.000000   -9.965000    0.000000   \n",
              "50%        0.705000    0.659000    6.000000   -7.834000    1.000000   \n",
              "75%        0.798000    0.835750    8.000000   -5.820000    1.000000   \n",
              "max        0.946000    0.996000   11.000000   -2.336000    1.000000   \n",
              "\n",
              "       speechiness  acousticness  instrumentalness    liveness     valence  \\\n",
              "count   193.000000    194.000000        193.000000  193.000000  193.000000   \n",
              "mean      0.149685      0.318336          0.194328    0.149144    0.490903   \n",
              "std       0.120758      0.321437          0.347466    0.106244    0.267723   \n",
              "min       0.027800      0.000003          0.000000    0.033100    0.035300   \n",
              "25%       0.057100      0.042200          0.000000    0.084100    0.267000   \n",
              "50%       0.096200      0.210500          0.000008    0.105000    0.521000   \n",
              "75%       0.231000      0.506500          0.104000    0.179000    0.712000   \n",
              "max       0.540000      0.995000          0.969000    0.633000    0.980000   \n",
              "\n",
              "            tempo    duration_ms  time_signature       liked  \n",
              "count  195.000000     195.000000      195.000000  195.000000  \n",
              "mean   121.086174  213408.933333        3.912821    0.512821  \n",
              "std     28.084829   72152.392864        0.451332    0.501122  \n",
              "min     60.171000   77203.000000        1.000000    0.000000  \n",
              "25%    100.242000  178300.500000        4.000000    0.000000  \n",
              "50%    124.896000  204000.000000        4.000000    1.000000  \n",
              "75%    142.460500  242373.500000        4.000000    1.000000  \n",
              "max    180.036000  655213.000000        5.000000    1.000000  "
            ],
            "text/html": [
              "\n",
              "  <div id=\"df-75ff3fd7-d9a5-4297-a471-f51a1cedd4f8\">\n",
              "    <div class=\"colab-df-container\">\n",
              "      <div>\n",
              "<style scoped>\n",
              "    .dataframe tbody tr th:only-of-type {\n",
              "        vertical-align: middle;\n",
              "    }\n",
              "\n",
              "    .dataframe tbody tr th {\n",
              "        vertical-align: top;\n",
              "    }\n",
              "\n",
              "    .dataframe thead th {\n",
              "        text-align: right;\n",
              "    }\n",
              "</style>\n",
              "<table border=\"1\" class=\"dataframe\">\n",
              "  <thead>\n",
              "    <tr style=\"text-align: right;\">\n",
              "      <th></th>\n",
              "      <th>danceability</th>\n",
              "      <th>energy</th>\n",
              "      <th>key</th>\n",
              "      <th>loudness</th>\n",
              "      <th>mode</th>\n",
              "      <th>speechiness</th>\n",
              "      <th>acousticness</th>\n",
              "      <th>instrumentalness</th>\n",
              "      <th>liveness</th>\n",
              "      <th>valence</th>\n",
              "      <th>tempo</th>\n",
              "      <th>duration_ms</th>\n",
              "      <th>time_signature</th>\n",
              "      <th>liked</th>\n",
              "    </tr>\n",
              "  </thead>\n",
              "  <tbody>\n",
              "    <tr>\n",
              "      <th>count</th>\n",
              "      <td>193.000000</td>\n",
              "      <td>194.000000</td>\n",
              "      <td>195.000000</td>\n",
              "      <td>193.000000</td>\n",
              "      <td>194.000000</td>\n",
              "      <td>193.000000</td>\n",
              "      <td>194.000000</td>\n",
              "      <td>193.000000</td>\n",
              "      <td>193.000000</td>\n",
              "      <td>193.000000</td>\n",
              "      <td>195.000000</td>\n",
              "      <td>195.000000</td>\n",
              "      <td>195.000000</td>\n",
              "      <td>195.000000</td>\n",
              "    </tr>\n",
              "    <tr>\n",
              "      <th>mean</th>\n",
              "      <td>0.636062</td>\n",
              "      <td>0.637202</td>\n",
              "      <td>5.497436</td>\n",
              "      <td>-9.508212</td>\n",
              "      <td>0.541237</td>\n",
              "      <td>0.149685</td>\n",
              "      <td>0.318336</td>\n",
              "      <td>0.194328</td>\n",
              "      <td>0.149144</td>\n",
              "      <td>0.490903</td>\n",
              "      <td>121.086174</td>\n",
              "      <td>213408.933333</td>\n",
              "      <td>3.912821</td>\n",
              "      <td>0.512821</td>\n",
              "    </tr>\n",
              "    <tr>\n",
              "      <th>std</th>\n",
              "      <td>0.217315</td>\n",
              "      <td>0.260200</td>\n",
              "      <td>3.415209</td>\n",
              "      <td>6.553701</td>\n",
              "      <td>0.499586</td>\n",
              "      <td>0.120758</td>\n",
              "      <td>0.321437</td>\n",
              "      <td>0.347466</td>\n",
              "      <td>0.106244</td>\n",
              "      <td>0.267723</td>\n",
              "      <td>28.084829</td>\n",
              "      <td>72152.392864</td>\n",
              "      <td>0.451332</td>\n",
              "      <td>0.501122</td>\n",
              "    </tr>\n",
              "    <tr>\n",
              "      <th>min</th>\n",
              "      <td>0.130000</td>\n",
              "      <td>0.002400</td>\n",
              "      <td>0.000000</td>\n",
              "      <td>-42.261000</td>\n",
              "      <td>0.000000</td>\n",
              "      <td>0.027800</td>\n",
              "      <td>0.000003</td>\n",
              "      <td>0.000000</td>\n",
              "      <td>0.033100</td>\n",
              "      <td>0.035300</td>\n",
              "      <td>60.171000</td>\n",
              "      <td>77203.000000</td>\n",
              "      <td>1.000000</td>\n",
              "      <td>0.000000</td>\n",
              "    </tr>\n",
              "    <tr>\n",
              "      <th>25%</th>\n",
              "      <td>0.462000</td>\n",
              "      <td>0.533250</td>\n",
              "      <td>2.000000</td>\n",
              "      <td>-9.965000</td>\n",
              "      <td>0.000000</td>\n",
              "      <td>0.057100</td>\n",
              "      <td>0.042200</td>\n",
              "      <td>0.000000</td>\n",
              "      <td>0.084100</td>\n",
              "      <td>0.267000</td>\n",
              "      <td>100.242000</td>\n",
              "      <td>178300.500000</td>\n",
              "      <td>4.000000</td>\n",
              "      <td>0.000000</td>\n",
              "    </tr>\n",
              "    <tr>\n",
              "      <th>50%</th>\n",
              "      <td>0.705000</td>\n",
              "      <td>0.659000</td>\n",
              "      <td>6.000000</td>\n",
              "      <td>-7.834000</td>\n",
              "      <td>1.000000</td>\n",
              "      <td>0.096200</td>\n",
              "      <td>0.210500</td>\n",
              "      <td>0.000008</td>\n",
              "      <td>0.105000</td>\n",
              "      <td>0.521000</td>\n",
              "      <td>124.896000</td>\n",
              "      <td>204000.000000</td>\n",
              "      <td>4.000000</td>\n",
              "      <td>1.000000</td>\n",
              "    </tr>\n",
              "    <tr>\n",
              "      <th>75%</th>\n",
              "      <td>0.798000</td>\n",
              "      <td>0.835750</td>\n",
              "      <td>8.000000</td>\n",
              "      <td>-5.820000</td>\n",
              "      <td>1.000000</td>\n",
              "      <td>0.231000</td>\n",
              "      <td>0.506500</td>\n",
              "      <td>0.104000</td>\n",
              "      <td>0.179000</td>\n",
              "      <td>0.712000</td>\n",
              "      <td>142.460500</td>\n",
              "      <td>242373.500000</td>\n",
              "      <td>4.000000</td>\n",
              "      <td>1.000000</td>\n",
              "    </tr>\n",
              "    <tr>\n",
              "      <th>max</th>\n",
              "      <td>0.946000</td>\n",
              "      <td>0.996000</td>\n",
              "      <td>11.000000</td>\n",
              "      <td>-2.336000</td>\n",
              "      <td>1.000000</td>\n",
              "      <td>0.540000</td>\n",
              "      <td>0.995000</td>\n",
              "      <td>0.969000</td>\n",
              "      <td>0.633000</td>\n",
              "      <td>0.980000</td>\n",
              "      <td>180.036000</td>\n",
              "      <td>655213.000000</td>\n",
              "      <td>5.000000</td>\n",
              "      <td>1.000000</td>\n",
              "    </tr>\n",
              "  </tbody>\n",
              "</table>\n",
              "</div>\n",
              "      <button class=\"colab-df-convert\" onclick=\"convertToInteractive('df-75ff3fd7-d9a5-4297-a471-f51a1cedd4f8')\"\n",
              "              title=\"Convert this dataframe to an interactive table.\"\n",
              "              style=\"display:none;\">\n",
              "        \n",
              "  <svg xmlns=\"http://www.w3.org/2000/svg\" height=\"24px\"viewBox=\"0 0 24 24\"\n",
              "       width=\"24px\">\n",
              "    <path d=\"M0 0h24v24H0V0z\" fill=\"none\"/>\n",
              "    <path d=\"M18.56 5.44l.94 2.06.94-2.06 2.06-.94-2.06-.94-.94-2.06-.94 2.06-2.06.94zm-11 1L8.5 8.5l.94-2.06 2.06-.94-2.06-.94L8.5 2.5l-.94 2.06-2.06.94zm10 10l.94 2.06.94-2.06 2.06-.94-2.06-.94-.94-2.06-.94 2.06-2.06.94z\"/><path d=\"M17.41 7.96l-1.37-1.37c-.4-.4-.92-.59-1.43-.59-.52 0-1.04.2-1.43.59L10.3 9.45l-7.72 7.72c-.78.78-.78 2.05 0 2.83L4 21.41c.39.39.9.59 1.41.59.51 0 1.02-.2 1.41-.59l7.78-7.78 2.81-2.81c.8-.78.8-2.07 0-2.86zM5.41 20L4 18.59l7.72-7.72 1.47 1.35L5.41 20z\"/>\n",
              "  </svg>\n",
              "      </button>\n",
              "      \n",
              "  <style>\n",
              "    .colab-df-container {\n",
              "      display:flex;\n",
              "      flex-wrap:wrap;\n",
              "      gap: 12px;\n",
              "    }\n",
              "\n",
              "    .colab-df-convert {\n",
              "      background-color: #E8F0FE;\n",
              "      border: none;\n",
              "      border-radius: 50%;\n",
              "      cursor: pointer;\n",
              "      display: none;\n",
              "      fill: #1967D2;\n",
              "      height: 32px;\n",
              "      padding: 0 0 0 0;\n",
              "      width: 32px;\n",
              "    }\n",
              "\n",
              "    .colab-df-convert:hover {\n",
              "      background-color: #E2EBFA;\n",
              "      box-shadow: 0px 1px 2px rgba(60, 64, 67, 0.3), 0px 1px 3px 1px rgba(60, 64, 67, 0.15);\n",
              "      fill: #174EA6;\n",
              "    }\n",
              "\n",
              "    [theme=dark] .colab-df-convert {\n",
              "      background-color: #3B4455;\n",
              "      fill: #D2E3FC;\n",
              "    }\n",
              "\n",
              "    [theme=dark] .colab-df-convert:hover {\n",
              "      background-color: #434B5C;\n",
              "      box-shadow: 0px 1px 3px 1px rgba(0, 0, 0, 0.15);\n",
              "      filter: drop-shadow(0px 1px 2px rgba(0, 0, 0, 0.3));\n",
              "      fill: #FFFFFF;\n",
              "    }\n",
              "  </style>\n",
              "\n",
              "      <script>\n",
              "        const buttonEl =\n",
              "          document.querySelector('#df-75ff3fd7-d9a5-4297-a471-f51a1cedd4f8 button.colab-df-convert');\n",
              "        buttonEl.style.display =\n",
              "          google.colab.kernel.accessAllowed ? 'block' : 'none';\n",
              "\n",
              "        async function convertToInteractive(key) {\n",
              "          const element = document.querySelector('#df-75ff3fd7-d9a5-4297-a471-f51a1cedd4f8');\n",
              "          const dataTable =\n",
              "            await google.colab.kernel.invokeFunction('convertToInteractive',\n",
              "                                                     [key], {});\n",
              "          if (!dataTable) return;\n",
              "\n",
              "          const docLinkHtml = 'Like what you see? Visit the ' +\n",
              "            '<a target=\"_blank\" href=https://colab.research.google.com/notebooks/data_table.ipynb>data table notebook</a>'\n",
              "            + ' to learn more about interactive tables.';\n",
              "          element.innerHTML = '';\n",
              "          dataTable['output_type'] = 'display_data';\n",
              "          await google.colab.output.renderOutput(dataTable, element);\n",
              "          const docLink = document.createElement('div');\n",
              "          docLink.innerHTML = docLinkHtml;\n",
              "          element.appendChild(docLink);\n",
              "        }\n",
              "      </script>\n",
              "    </div>\n",
              "  </div>\n",
              "  "
            ]
          },
          "metadata": {},
          "execution_count": 4
        }
      ],
      "source": [
        "df.describe()"
      ]
    },
    {
      "cell_type": "code",
      "execution_count": null,
      "metadata": {
        "colab": {
          "base_uri": "https://localhost:8080/"
        },
        "id": "kpclBLsAhB8o",
        "outputId": "cebcec2e-8d6e-46d3-ce8e-564a1cc2fc6e"
      },
      "outputs": [
        {
          "output_type": "stream",
          "name": "stdout",
          "text": [
            "(195, 14)\n",
            "danceability        float64\n",
            "energy              float64\n",
            "key                   int64\n",
            "loudness            float64\n",
            "mode                float64\n",
            "speechiness         float64\n",
            "acousticness        float64\n",
            "instrumentalness    float64\n",
            "liveness            float64\n",
            "valence             float64\n",
            "tempo               float64\n",
            "duration_ms           int64\n",
            "time_signature        int64\n",
            "liked                 int64\n",
            "dtype: object\n"
          ]
        }
      ],
      "source": [
        "print(df.shape)\n",
        "print(df.dtypes)"
      ]
    },
    {
      "cell_type": "markdown",
      "metadata": {
        "id": "MIBm_l2Nimao"
      },
      "source": [
        "המאפיינים הקטגוריאליים הם:\n",
        "\n",
        "liked\n",
        "\n",
        "time_signature\n",
        "\n",
        "mode\n",
        "\n",
        "key"
      ]
    },
    {
      "cell_type": "markdown",
      "metadata": {
        "id": "h7PwHAURWItd"
      },
      "source": [
        "<div dir=\"rtl\">\n",
        "\n",
        "#<font color='#6400E4'><b>שלב 2 - עיבוד והנדסת הנתונים (Feature Engineering)</b></font></div>\n"
      ]
    },
    {
      "cell_type": "markdown",
      "metadata": {
        "id": "4COjSdg2EYNG"
      },
      "source": [
        "<div dir=\"rtl\">\n",
        "\n",
        "#זיהוי ערכים חריגים"
      ]
    },
    {
      "cell_type": "code",
      "execution_count": null,
      "metadata": {
        "colab": {
          "base_uri": "https://localhost:8080/",
          "height": 592
        },
        "id": "Dwals4NmiuAI",
        "outputId": "f9f224e4-cd10-4d34-9d10-75ff75f18c9d"
      },
      "outputs": [
        {
          "output_type": "display_data",
          "data": {
            "text/plain": [
              "<Figure size 720x720 with 1 Axes>"
            ],
            "image/png": "[encoded data removed]"
          },
          "metadata": {
            "needs_background": "light"
          }
        }
      ],
      "source": [
        "import matplotlib.pyplot as plt\n",
        "tempo = df.loc[:,'tempo']\n",
        "fig = plt.figure(figsize =(10, 10))\n",
        "plt.boxplot(tempo)\n",
        "plt.show()\n"
      ]
    },
    {
      "cell_type": "code",
      "execution_count": null,
      "metadata": {
        "colab": {
          "base_uri": "https://localhost:8080/",
          "height": 592
        },
        "id": "uH7h_Yv6jPGQ",
        "outputId": "44aebdbf-2d1b-46ff-a736-7471654dee5b"
      },
      "outputs": [
        {
          "output_type": "display_data",
          "data": {
            "text/plain": [
              "<Figure size 720x720 with 1 Axes>"
            ],
            "image/png": "[encoded data removed]"
          },
          "metadata": {
            "needs_background": "light"
          }
        }
      ],
      "source": [
        "duration = df.loc[:,'duration_ms']\n",
        "fig2 = plt.figure(figsize =(10, 10))\n",
        "plt.boxplot(duration)\n",
        "plt.show()"
      ]
    },
    {
      "cell_type": "markdown",
      "metadata": {
        "id": "RKUfdvRfkhB4"
      },
      "source": [
        "<div dir=\"rtl\">\n",
        "\n",
        "#טיפול בערכים חסרים"
      ]
    },
    {
      "cell_type": "code",
      "execution_count": null,
      "metadata": {
        "colab": {
          "base_uri": "https://localhost:8080/",
          "height": 519
        },
        "id": "LslKDOzIkSbX",
        "outputId": "f51bde26-e5ff-48be-f00a-f0114f22ee98"
      },
      "outputs": [
        {
          "output_type": "execute_result",
          "data": {
            "text/plain": [
              "     danceability   energy  key  loudness  mode  speechiness  acousticness  \\\n",
              "9           0.853  0.66800    3    -6.995   1.0       0.4470      0.263000   \n",
              "21          0.438  0.08250    9   -21.686   0.0       0.0695      0.983000   \n",
              "36          0.784  0.70000    7    -7.649   0.0       0.1080      0.491000   \n",
              "47          0.924  0.74800    2    -3.645   1.0       0.1880      0.174000   \n",
              "58          0.364  0.00799    8   -33.090   1.0          NaN      0.978000   \n",
              "67          0.680      NaN    5   -10.241   0.0       0.0353      0.191000   \n",
              "70          0.774  0.85300    1       NaN   1.0       0.2460      0.027500   \n",
              "87          0.338  0.98800    8    -7.290   NaN       0.0865      0.000083   \n",
              "88            NaN  0.67200    9   -12.068   1.0       0.0619      0.043500   \n",
              "103         0.251  0.98100   10    -7.282   0.0          NaN      0.000063   \n",
              "117         0.592  0.37100    9    -9.965   0.0       0.0437      0.400000   \n",
              "140         0.699  0.61000    9       NaN   1.0       0.2310      0.001530   \n",
              "172         0.901  0.65300    1    -6.199   1.0       0.3080           NaN   \n",
              "192         0.499  0.35100    9   -11.509   0.0       0.0448      0.951000   \n",
              "193           NaN  0.72900   10    -5.838   0.0       0.0965      0.040600   \n",
              "\n",
              "     instrumentalness  liveness  valence    tempo  duration_ms  \\\n",
              "9            0.000000    0.1040      NaN  157.995       165363   \n",
              "21           0.074900       NaN   0.3700  106.275       270000   \n",
              "36           0.000000    0.1080      NaN   82.028       190067   \n",
              "47                NaN    0.2070   0.3810  121.063       209667   \n",
              "58           0.894000    0.1090   0.0674  101.226       216093   \n",
              "67           0.000656    0.3490   0.9220  108.674       185107   \n",
              "70           0.000000    0.0876   0.6190  123.041       106000   \n",
              "87           0.833000    0.0377   0.4490   99.046       221960   \n",
              "88           0.000000    0.0610   0.9330  109.394       300000   \n",
              "103          0.729000    0.2190   0.2750   99.338       375307   \n",
              "117               NaN    0.0953   0.1970  127.966       316546   \n",
              "140          0.000002    0.3690   0.5770  170.103       204000   \n",
              "172          0.000000    0.2100   0.5510  132.979       173987   \n",
              "192          0.000099       NaN   0.6160   90.664       235947   \n",
              "193          0.000004    0.1940   0.4130  110.547       190239   \n",
              "\n",
              "     time_signature  liked  \n",
              "9                 4      1  \n",
              "21                5      0  \n",
              "36                4      0  \n",
              "47                4      1  \n",
              "58                4      0  \n",
              "67                4      0  \n",
              "70                4      1  \n",
              "87                4      0  \n",
              "88                4      0  \n",
              "103               4      0  \n",
              "117               4      0  \n",
              "140               4      1  \n",
              "172               4      1  \n",
              "192               4      0  \n",
              "193               5      1  "
            ],
            "text/html": [
              "\n",
              "  <div id=\"df-17b531fd-ad90-4315-a04a-51a01bf6be6c\">\n",
              "    <div class=\"colab-df-container\">\n",
              "      <div>\n",
              "<style scoped>\n",
              "    .dataframe tbody tr th:only-of-type {\n",
              "        vertical-align: middle;\n",
              "    }\n",
              "\n",
              "    .dataframe tbody tr th {\n",
              "        vertical-align: top;\n",
              "    }\n",
              "\n",
              "    .dataframe thead th {\n",
              "        text-align: right;\n",
              "    }\n",
              "</style>\n",
              "<table border=\"1\" class=\"dataframe\">\n",
              "  <thead>\n",
              "    <tr style=\"text-align: right;\">\n",
              "      <th></th>\n",
              "      <th>danceability</th>\n",
              "      <th>energy</th>\n",
              "      <th>key</th>\n",
              "      <th>loudness</th>\n",
              "      <th>mode</th>\n",
              "      <th>speechiness</th>\n",
              "      <th>acousticness</th>\n",
              "      <th>instrumentalness</th>\n",
              "      <th>liveness</th>\n",
              "      <th>valence</th>\n",
              "      <th>tempo</th>\n",
              "      <th>duration_ms</th>\n",
              "      <th>time_signature</th>\n",
              "      <th>liked</th>\n",
              "    </tr>\n",
              "  </thead>\n",
              "  <tbody>\n",
              "    <tr>\n",
              "      <th>9</th>\n",
              "      <td>0.853</td>\n",
              "      <td>0.66800</td>\n",
              "      <td>3</td>\n",
              "      <td>-6.995</td>\n",
              "      <td>1.0</td>\n",
              "      <td>0.4470</td>\n",
              "      <td>0.263000</td>\n",
              "      <td>0.000000</td>\n",
              "      <td>0.1040</td>\n",
              "      <td>NaN</td>\n",
              "      <td>157.995</td>\n",
              "      <td>165363</td>\n",
              "      <td>4</td>\n",
              "      <td>1</td>\n",
              "    </tr>\n",
              "    <tr>\n",
              "      <th>21</th>\n",
              "      <td>0.438</td>\n",
              "      <td>0.08250</td>\n",
              "      <td>9</td>\n",
              "      <td>-21.686</td>\n",
              "      <td>0.0</td>\n",
              "      <td>0.0695</td>\n",
              "      <td>0.983000</td>\n",
              "      <td>0.074900</td>\n",
              "      <td>NaN</td>\n",
              "      <td>0.3700</td>\n",
              "      <td>106.275</td>\n",
              "      <td>270000</td>\n",
              "      <td>5</td>\n",
              "      <td>0</td>\n",
              "    </tr>\n",
              "    <tr>\n",
              "      <th>36</th>\n",
              "      <td>0.784</td>\n",
              "      <td>0.70000</td>\n",
              "      <td>7</td>\n",
              "      <td>-7.649</td>\n",
              "      <td>0.0</td>\n",
              "      <td>0.1080</td>\n",
              "      <td>0.491000</td>\n",
              "      <td>0.000000</td>\n",
              "      <td>0.1080</td>\n",
              "      <td>NaN</td>\n",
              "      <td>82.028</td>\n",
              "      <td>190067</td>\n",
              "      <td>4</td>\n",
              "      <td>0</td>\n",
              "    </tr>\n",
              "    <tr>\n",
              "      <th>47</th>\n",
              "      <td>0.924</td>\n",
              "      <td>0.74800</td>\n",
              "      <td>2</td>\n",
              "      <td>-3.645</td>\n",
              "      <td>1.0</td>\n",
              "      <td>0.1880</td>\n",
              "      <td>0.174000</td>\n",
              "      <td>NaN</td>\n",
              "      <td>0.2070</td>\n",
              "      <td>0.3810</td>\n",
              "      <td>121.063</td>\n",
              "      <td>209667</td>\n",
              "      <td>4</td>\n",
              "      <td>1</td>\n",
              "    </tr>\n",
              "    <tr>\n",
              "      <th>58</th>\n",
              "      <td>0.364</td>\n",
              "      <td>0.00799</td>\n",
              "      <td>8</td>\n",
              "      <td>-33.090</td>\n",
              "      <td>1.0</td>\n",
              "      <td>NaN</td>\n",
              "      <td>0.978000</td>\n",
              "      <td>0.894000</td>\n",
              "      <td>0.1090</td>\n",
              "      <td>0.0674</td>\n",
              "      <td>101.226</td>\n",
              "      <td>216093</td>\n",
              "      <td>4</td>\n",
              "      <td>0</td>\n",
              "    </tr>\n",
              "    <tr>\n",
              "      <th>67</th>\n",
              "      <td>0.680</td>\n",
              "      <td>NaN</td>\n",
              "      <td>5</td>\n",
              "      <td>-10.241</td>\n",
              "      <td>0.0</td>\n",
              "      <td>0.0353</td>\n",
              "      <td>0.191000</td>\n",
              "      <td>0.000656</td>\n",
              "      <td>0.3490</td>\n",
              "      <td>0.9220</td>\n",
              "      <td>108.674</td>\n",
              "      <td>185107</td>\n",
              "      <td>4</td>\n",
              "      <td>0</td>\n",
              "    </tr>\n",
              "    <tr>\n",
              "      <th>70</th>\n",
              "      <td>0.774</td>\n",
              "      <td>0.85300</td>\n",
              "      <td>1</td>\n",
              "      <td>NaN</td>\n",
              "      <td>1.0</td>\n",
              "      <td>0.2460</td>\n",
              "      <td>0.027500</td>\n",
              "      <td>0.000000</td>\n",
              "      <td>0.0876</td>\n",
              "      <td>0.6190</td>\n",
              "      <td>123.041</td>\n",
              "      <td>106000</td>\n",
              "      <td>4</td>\n",
              "      <td>1</td>\n",
              "    </tr>\n",
              "    <tr>\n",
              "      <th>87</th>\n",
              "      <td>0.338</td>\n",
              "      <td>0.98800</td>\n",
              "      <td>8</td>\n",
              "      <td>-7.290</td>\n",
              "      <td>NaN</td>\n",
              "      <td>0.0865</td>\n",
              "      <td>0.000083</td>\n",
              "      <td>0.833000</td>\n",
              "      <td>0.0377</td>\n",
              "      <td>0.4490</td>\n",
              "      <td>99.046</td>\n",
              "      <td>221960</td>\n",
              "      <td>4</td>\n",
              "      <td>0</td>\n",
              "    </tr>\n",
              "    <tr>\n",
              "      <th>88</th>\n",
              "      <td>NaN</td>\n",
              "      <td>0.67200</td>\n",
              "      <td>9</td>\n",
              "      <td>-12.068</td>\n",
              "      <td>1.0</td>\n",
              "      <td>0.0619</td>\n",
              "      <td>0.043500</td>\n",
              "      <td>0.000000</td>\n",
              "      <td>0.0610</td>\n",
              "      <td>0.9330</td>\n",
              "      <td>109.394</td>\n",
              "      <td>300000</td>\n",
              "      <td>4</td>\n",
              "      <td>0</td>\n",
              "    </tr>\n",
              "    <tr>\n",
              "      <th>103</th>\n",
              "      <td>0.251</td>\n",
              "      <td>0.98100</td>\n",
              "      <td>10</td>\n",
              "      <td>-7.282</td>\n",
              "      <td>0.0</td>\n",
              "      <td>NaN</td>\n",
              "      <td>0.000063</td>\n",
              "      <td>0.729000</td>\n",
              "      <td>0.2190</td>\n",
              "      <td>0.2750</td>\n",
              "      <td>99.338</td>\n",
              "      <td>375307</td>\n",
              "      <td>4</td>\n",
              "      <td>0</td>\n",
              "    </tr>\n",
              "    <tr>\n",
              "      <th>117</th>\n",
              "      <td>0.592</td>\n",
              "      <td>0.37100</td>\n",
              "      <td>9</td>\n",
              "      <td>-9.965</td>\n",
              "      <td>0.0</td>\n",
              "      <td>0.0437</td>\n",
              "      <td>0.400000</td>\n",
              "      <td>NaN</td>\n",
              "      <td>0.0953</td>\n",
              "      <td>0.1970</td>\n",
              "      <td>127.966</td>\n",
              "      <td>316546</td>\n",
              "      <td>4</td>\n",
              "      <td>0</td>\n",
              "    </tr>\n",
              "    <tr>\n",
              "      <th>140</th>\n",
              "      <td>0.699</td>\n",
              "      <td>0.61000</td>\n",
              "      <td>9</td>\n",
              "      <td>NaN</td>\n",
              "      <td>1.0</td>\n",
              "      <td>0.2310</td>\n",
              "      <td>0.001530</td>\n",
              "      <td>0.000002</td>\n",
              "      <td>0.3690</td>\n",
              "      <td>0.5770</td>\n",
              "      <td>170.103</td>\n",
              "      <td>204000</td>\n",
              "      <td>4</td>\n",
              "      <td>1</td>\n",
              "    </tr>\n",
              "    <tr>\n",
              "      <th>172</th>\n",
              "      <td>0.901</td>\n",
              "      <td>0.65300</td>\n",
              "      <td>1</td>\n",
              "      <td>-6.199</td>\n",
              "      <td>1.0</td>\n",
              "      <td>0.3080</td>\n",
              "      <td>NaN</td>\n",
              "      <td>0.000000</td>\n",
              "      <td>0.2100</td>\n",
              "      <td>0.5510</td>\n",
              "      <td>132.979</td>\n",
              "      <td>173987</td>\n",
              "      <td>4</td>\n",
              "      <td>1</td>\n",
              "    </tr>\n",
              "    <tr>\n",
              "      <th>192</th>\n",
              "      <td>0.499</td>\n",
              "      <td>0.35100</td>\n",
              "      <td>9</td>\n",
              "      <td>-11.509</td>\n",
              "      <td>0.0</td>\n",
              "      <td>0.0448</td>\n",
              "      <td>0.951000</td>\n",
              "      <td>0.000099</td>\n",
              "      <td>NaN</td>\n",
              "      <td>0.6160</td>\n",
              "      <td>90.664</td>\n",
              "      <td>235947</td>\n",
              "      <td>4</td>\n",
              "      <td>0</td>\n",
              "    </tr>\n",
              "    <tr>\n",
              "      <th>193</th>\n",
              "      <td>NaN</td>\n",
              "      <td>0.72900</td>\n",
              "      <td>10</td>\n",
              "      <td>-5.838</td>\n",
              "      <td>0.0</td>\n",
              "      <td>0.0965</td>\n",
              "      <td>0.040600</td>\n",
              "      <td>0.000004</td>\n",
              "      <td>0.1940</td>\n",
              "      <td>0.4130</td>\n",
              "      <td>110.547</td>\n",
              "      <td>190239</td>\n",
              "      <td>5</td>\n",
              "      <td>1</td>\n",
              "    </tr>\n",
              "  </tbody>\n",
              "</table>\n",
              "</div>\n",
              "      <button class=\"colab-df-convert\" onclick=\"convertToInteractive('df-17b531fd-ad90-4315-a04a-51a01bf6be6c')\"\n",
              "              title=\"Convert this dataframe to an interactive table.\"\n",
              "              style=\"display:none;\">\n",
              "        \n",
              "  <svg xmlns=\"http://www.w3.org/2000/svg\" height=\"24px\"viewBox=\"0 0 24 24\"\n",
              "       width=\"24px\">\n",
              "    <path d=\"M0 0h24v24H0V0z\" fill=\"none\"/>\n",
              "    <path d=\"M18.56 5.44l.94 2.06.94-2.06 2.06-.94-2.06-.94-.94-2.06-.94 2.06-2.06.94zm-11 1L8.5 8.5l.94-2.06 2.06-.94-2.06-.94L8.5 2.5l-.94 2.06-2.06.94zm10 10l.94 2.06.94-2.06 2.06-.94-2.06-.94-.94-2.06-.94 2.06-2.06.94z\"/><path d=\"M17.41 7.96l-1.37-1.37c-.4-.4-.92-.59-1.43-.59-.52 0-1.04.2-1.43.59L10.3 9.45l-7.72 7.72c-.78.78-.78 2.05 0 2.83L4 21.41c.39.39.9.59 1.41.59.51 0 1.02-.2 1.41-.59l7.78-7.78 2.81-2.81c.8-.78.8-2.07 0-2.86zM5.41 20L4 18.59l7.72-7.72 1.47 1.35L5.41 20z\"/>\n",
              "  </svg>\n",
              "      </button>\n",
              "      \n",
              "  <style>\n",
              "    .colab-df-container {\n",
              "      display:flex;\n",
              "      flex-wrap:wrap;\n",
              "      gap: 12px;\n",
              "    }\n",
              "\n",
              "    .colab-df-convert {\n",
              "      background-color: #E8F0FE;\n",
              "      border: none;\n",
              "      border-radius: 50%;\n",
              "      cursor: pointer;\n",
              "      display: none;\n",
              "      fill: #1967D2;\n",
              "      height: 32px;\n",
              "      padding: 0 0 0 0;\n",
              "      width: 32px;\n",
              "    }\n",
              "\n",
              "    .colab-df-convert:hover {\n",
              "      background-color: #E2EBFA;\n",
              "      box-shadow: 0px 1px 2px rgba(60, 64, 67, 0.3), 0px 1px 3px 1px rgba(60, 64, 67, 0.15);\n",
              "      fill: #174EA6;\n",
              "    }\n",
              "\n",
              "    [theme=dark] .colab-df-convert {\n",
              "      background-color: #3B4455;\n",
              "      fill: #D2E3FC;\n",
              "    }\n",
              "\n",
              "    [theme=dark] .colab-df-convert:hover {\n",
              "      background-color: #434B5C;\n",
              "      box-shadow: 0px 1px 3px 1px rgba(0, 0, 0, 0.15);\n",
              "      filter: drop-shadow(0px 1px 2px rgba(0, 0, 0, 0.3));\n",
              "      fill: #FFFFFF;\n",
              "    }\n",
              "  </style>\n",
              "\n",
              "      <script>\n",
              "        const buttonEl =\n",
              "          document.querySelector('#df-17b531fd-ad90-4315-a04a-51a01bf6be6c button.colab-df-convert');\n",
              "        buttonEl.style.display =\n",
              "          google.colab.kernel.accessAllowed ? 'block' : 'none';\n",
              "\n",
              "        async function convertToInteractive(key) {\n",
              "          const element = document.querySelector('#df-17b531fd-ad90-4315-a04a-51a01bf6be6c');\n",
              "          const dataTable =\n",
              "            await google.colab.kernel.invokeFunction('convertToInteractive',\n",
              "                                                     [key], {});\n",
              "          if (!dataTable) return;\n",
              "\n",
              "          const docLinkHtml = 'Like what you see? Visit the ' +\n",
              "            '<a target=\"_blank\" href=https://colab.research.google.com/notebooks/data_table.ipynb>data table notebook</a>'\n",
              "            + ' to learn more about interactive tables.';\n",
              "          element.innerHTML = '';\n",
              "          dataTable['output_type'] = 'display_data';\n",
              "          await google.colab.output.renderOutput(dataTable, element);\n",
              "          const docLink = document.createElement('div');\n",
              "          docLink.innerHTML = docLinkHtml;\n",
              "          element.appendChild(docLink);\n",
              "        }\n",
              "      </script>\n",
              "    </div>\n",
              "  </div>\n",
              "  "
            ]
          },
          "metadata": {},
          "execution_count": 8
        }
      ],
      "source": [
        "df[df.isnull().any(axis=1)]\n"
      ]
    },
    {
      "cell_type": "code",
      "execution_count": null,
      "metadata": {
        "colab": {
          "base_uri": "https://localhost:8080/",
          "height": 49
        },
        "id": "x1VaQUOFnZOR",
        "outputId": "6cb1cba5-d1ea-46e6-ef12-1979527e4e84"
      },
      "outputs": [
        {
          "output_type": "execute_result",
          "data": {
            "text/plain": [
              "Empty DataFrame\n",
              "Columns: [danceability, energy, key, loudness, mode, speechiness, acousticness, instrumentalness, liveness, valence, tempo, duration_ms, time_signature, liked]\n",
              "Index: []"
            ],
            "text/html": [
              "\n",
              "  <div id=\"df-6685ff37-5a38-4c03-a5a2-0eda361b76ba\">\n",
              "    <div class=\"colab-df-container\">\n",
              "      <div>\n",
              "<style scoped>\n",
              "    .dataframe tbody tr th:only-of-type {\n",
              "        vertical-align: middle;\n",
              "    }\n",
              "\n",
              "    .dataframe tbody tr th {\n",
              "        vertical-align: top;\n",
              "    }\n",
              "\n",
              "    .dataframe thead th {\n",
              "        text-align: right;\n",
              "    }\n",
              "</style>\n",
              "<table border=\"1\" class=\"dataframe\">\n",
              "  <thead>\n",
              "    <tr style=\"text-align: right;\">\n",
              "      <th></th>\n",
              "      <th>danceability</th>\n",
              "      <th>energy</th>\n",
              "      <th>key</th>\n",
              "      <th>loudness</th>\n",
              "      <th>mode</th>\n",
              "      <th>speechiness</th>\n",
              "      <th>acousticness</th>\n",
              "      <th>instrumentalness</th>\n",
              "      <th>liveness</th>\n",
              "      <th>valence</th>\n",
              "      <th>tempo</th>\n",
              "      <th>duration_ms</th>\n",
              "      <th>time_signature</th>\n",
              "      <th>liked</th>\n",
              "    </tr>\n",
              "  </thead>\n",
              "  <tbody>\n",
              "  </tbody>\n",
              "</table>\n",
              "</div>\n",
              "      <button class=\"colab-df-convert\" onclick=\"convertToInteractive('df-6685ff37-5a38-4c03-a5a2-0eda361b76ba')\"\n",
              "              title=\"Convert this dataframe to an interactive table.\"\n",
              "              style=\"display:none;\">\n",
              "        \n",
              "  <svg xmlns=\"http://www.w3.org/2000/svg\" height=\"24px\"viewBox=\"0 0 24 24\"\n",
              "       width=\"24px\">\n",
              "    <path d=\"M0 0h24v24H0V0z\" fill=\"none\"/>\n",
              "    <path d=\"M18.56 5.44l.94 2.06.94-2.06 2.06-.94-2.06-.94-.94-2.06-.94 2.06-2.06.94zm-11 1L8.5 8.5l.94-2.06 2.06-.94-2.06-.94L8.5 2.5l-.94 2.06-2.06.94zm10 10l.94 2.06.94-2.06 2.06-.94-2.06-.94-.94-2.06-.94 2.06-2.06.94z\"/><path d=\"M17.41 7.96l-1.37-1.37c-.4-.4-.92-.59-1.43-.59-.52 0-1.04.2-1.43.59L10.3 9.45l-7.72 7.72c-.78.78-.78 2.05 0 2.83L4 21.41c.39.39.9.59 1.41.59.51 0 1.02-.2 1.41-.59l7.78-7.78 2.81-2.81c.8-.78.8-2.07 0-2.86zM5.41 20L4 18.59l7.72-7.72 1.47 1.35L5.41 20z\"/>\n",
              "  </svg>\n",
              "      </button>\n",
              "      \n",
              "  <style>\n",
              "    .colab-df-container {\n",
              "      display:flex;\n",
              "      flex-wrap:wrap;\n",
              "      gap: 12px;\n",
              "    }\n",
              "\n",
              "    .colab-df-convert {\n",
              "      background-color: #E8F0FE;\n",
              "      border: none;\n",
              "      border-radius: 50%;\n",
              "      cursor: pointer;\n",
              "      display: none;\n",
              "      fill: #1967D2;\n",
              "      height: 32px;\n",
              "      padding: 0 0 0 0;\n",
              "      width: 32px;\n",
              "    }\n",
              "\n",
              "    .colab-df-convert:hover {\n",
              "      background-color: #E2EBFA;\n",
              "      box-shadow: 0px 1px 2px rgba(60, 64, 67, 0.3), 0px 1px 3px 1px rgba(60, 64, 67, 0.15);\n",
              "      fill: #174EA6;\n",
              "    }\n",
              "\n",
              "    [theme=dark] .colab-df-convert {\n",
              "      background-color: #3B4455;\n",
              "      fill: #D2E3FC;\n",
              "    }\n",
              "\n",
              "    [theme=dark] .colab-df-convert:hover {\n",
              "      background-color: #434B5C;\n",
              "      box-shadow: 0px 1px 3px 1px rgba(0, 0, 0, 0.15);\n",
              "      filter: drop-shadow(0px 1px 2px rgba(0, 0, 0, 0.3));\n",
              "      fill: #FFFFFF;\n",
              "    }\n",
              "  </style>\n",
              "\n",
              "      <script>\n",
              "        const buttonEl =\n",
              "          document.querySelector('#df-6685ff37-5a38-4c03-a5a2-0eda361b76ba button.colab-df-convert');\n",
              "        buttonEl.style.display =\n",
              "          google.colab.kernel.accessAllowed ? 'block' : 'none';\n",
              "\n",
              "        async function convertToInteractive(key) {\n",
              "          const element = document.querySelector('#df-6685ff37-5a38-4c03-a5a2-0eda361b76ba');\n",
              "          const dataTable =\n",
              "            await google.colab.kernel.invokeFunction('convertToInteractive',\n",
              "                                                     [key], {});\n",
              "          if (!dataTable) return;\n",
              "\n",
              "          const docLinkHtml = 'Like what you see? Visit the ' +\n",
              "            '<a target=\"_blank\" href=https://colab.research.google.com/notebooks/data_table.ipynb>data table notebook</a>'\n",
              "            + ' to learn more about interactive tables.';\n",
              "          element.innerHTML = '';\n",
              "          dataTable['output_type'] = 'display_data';\n",
              "          await google.colab.output.renderOutput(dataTable, element);\n",
              "          const docLink = document.createElement('div');\n",
              "          docLink.innerHTML = docLinkHtml;\n",
              "          element.appendChild(docLink);\n",
              "        }\n",
              "      </script>\n",
              "    </div>\n",
              "  </div>\n",
              "  "
            ]
          },
          "metadata": {},
          "execution_count": 9
        }
      ],
      "source": [
        "df = df.dropna()\n",
        "df[df.isnull().any(axis=1)]"
      ]
    },
    {
      "cell_type": "markdown",
      "metadata": {
        "id": "YPoivhfFlS4o"
      },
      "source": [
        "<div dir=\"rtl\">\n",
        "\n",
        "#נורמליזציה של נתונים"
      ]
    },
    {
      "cell_type": "code",
      "execution_count": null,
      "metadata": {
        "id": "JxZ2kBnfoEDA"
      },
      "outputs": [],
      "source": [
        "from sklearn.preprocessing import StandardScaler\n",
        "from sklearn import preprocessing\n",
        "import numpy as np\n",
        "def normalization(column):\n",
        "  data = np.array(column).reshape(-1,1)\n",
        "  scaler = preprocessing.StandardScaler().fit(data)\n",
        "  data_scaled = scaler.transform(data)\n",
        "  return data_scaled\n",
        "\n",
        "danceability_nor = normalization(df.iloc[:,0])\n",
        "energy_nor = normalization(df.iloc[:,1])\n",
        "loudness_nor = normalization(df.iloc[:,3])\n",
        "speechiness_nor = normalization(df.iloc[:,5])\n",
        "acousticness_nor = normalization(df.iloc[:,6])\n",
        "instrumentalness_nor = normalization(df.iloc[:,7])\n",
        "liveness_nor = normalization(df.iloc[:,8])\n",
        "valence_nor = normalization(df.iloc[:,9])\n",
        "tempo_nor = normalization(df.iloc[:,10])\n",
        "duration_nor = normalization(df.iloc[:,11])"
      ]
    },
    {
      "cell_type": "markdown",
      "metadata": {
        "id": "mNzC7WsQByAh"
      },
      "source": [
        "<div dir=\"rtl\">\n",
        "\n",
        "#<font color='#6400E4'><b>שלב 3 - בחירת משתנים ואנליזת ההתפלגות</b></font></div>\n"
      ]
    },
    {
      "cell_type": "code",
      "execution_count": null,
      "metadata": {
        "colab": {
          "base_uri": "https://localhost:8080/",
          "height": 283
        },
        "id": "OP5uPnQSuqMy",
        "outputId": "ace49e39-321b-4bc7-a6cb-b152577e757f"
      },
      "outputs": [
        {
          "output_type": "display_data",
          "data": {
            "text/plain": [
              "<Figure size 432x288 with 1 Axes>"
            ],
            "image/png": "[encoded data removed]"
          },
          "metadata": {
            "needs_background": "light"
          }
        },
        {
          "output_type": "stream",
          "name": "stdout",
          "text": [
            "None\n"
          ]
        }
      ],
      "source": [
        "def histogram(column):\n",
        "  df_liked = df.loc[df['liked'] == 1]\n",
        "  df_one = df_liked.loc[:,column]\n",
        "  df_disliked = df.loc[df['liked'] == 0]\n",
        "  df_zero = df_disliked.loc[:,column]\n",
        "  plt.hist(df_zero, color = 'red', label='disliked')\n",
        "  plt.hist(df_one, color = 'blue', label='liked')\n",
        "  plt.legend()\n",
        "  plt.show()\n",
        "\n",
        "df['danceability'] = danceability_nor\n",
        "print(histogram('danceability'))"
      ]
    },
    {
      "cell_type": "code",
      "execution_count": null,
      "metadata": {
        "colab": {
          "base_uri": "https://localhost:8080/",
          "height": 283
        },
        "id": "iqC6TVOf-qbi",
        "outputId": "fae506ed-5402-4402-946a-141a313e453e"
      },
      "outputs": [
        {
          "output_type": "display_data",
          "data": {
            "text/plain": [
              "<Figure size 432x288 with 1 Axes>"
            ],
            "image/png": "[encoded data removed]"
          },
          "metadata": {
            "needs_background": "light"
          }
        },
        {
          "output_type": "stream",
          "name": "stdout",
          "text": [
            "None\n"
          ]
        }
      ],
      "source": [
        "df['energy'] = energy_nor\n",
        "print(histogram('energy'))"
      ]
    },
    {
      "cell_type": "code",
      "execution_count": null,
      "metadata": {
        "colab": {
          "base_uri": "https://localhost:8080/",
          "height": 283
        },
        "id": "0Crl09UH-zMS",
        "outputId": "1437884d-7763-4a9a-a71c-c19b82697468"
      },
      "outputs": [
        {
          "output_type": "display_data",
          "data": {
            "text/plain": [
              "<Figure size 432x288 with 1 Axes>"
            ],
            "image/png": "[encoded data removed]"
          },
          "metadata": {
            "needs_background": "light"
          }
        },
        {
          "output_type": "stream",
          "name": "stdout",
          "text": [
            "None\n"
          ]
        }
      ],
      "source": [
        "df['loudness'] = loudness_nor\n",
        "print(histogram('loudness'))"
      ]
    },
    {
      "cell_type": "code",
      "execution_count": null,
      "metadata": {
        "colab": {
          "base_uri": "https://localhost:8080/",
          "height": 283
        },
        "id": "90dAz5L6-zo7",
        "outputId": "f35d1c21-b193-444e-ea62-2ab0c7910359"
      },
      "outputs": [
        {
          "output_type": "display_data",
          "data": {
            "text/plain": [
              "<Figure size 432x288 with 1 Axes>"
            ],
            "image/png": "[encoded data removed]"
          },
          "metadata": {
            "needs_background": "light"
          }
        },
        {
          "output_type": "stream",
          "name": "stdout",
          "text": [
            "None\n"
          ]
        }
      ],
      "source": [
        "df['speechiness'] = speechiness_nor\n",
        "print(histogram('speechiness'))"
      ]
    },
    {
      "cell_type": "code",
      "execution_count": null,
      "metadata": {
        "colab": {
          "base_uri": "https://localhost:8080/",
          "height": 283
        },
        "id": "_Dqqekri-0Hi",
        "outputId": "4cb888e4-e937-4901-8d3b-b02de6755374"
      },
      "outputs": [
        {
          "output_type": "display_data",
          "data": {
            "text/plain": [
              "<Figure size 432x288 with 1 Axes>"
            ],
            "image/png": "[encoded data removed]"
          },
          "metadata": {
            "needs_background": "light"
          }
        },
        {
          "output_type": "stream",
          "name": "stdout",
          "text": [
            "None\n"
          ]
        }
      ],
      "source": [
        "df['acousticness'] = acousticness_nor\n",
        "print(histogram('acousticness'))"
      ]
    },
    {
      "cell_type": "code",
      "execution_count": null,
      "metadata": {
        "colab": {
          "base_uri": "https://localhost:8080/",
          "height": 283
        },
        "id": "tjd1-TG2-0Zi",
        "outputId": "5af071b9-a21d-48a2-9a39-b7efc673a5a6"
      },
      "outputs": [
        {
          "output_type": "display_data",
          "data": {
            "text/plain": [
              "<Figure size 432x288 with 1 Axes>"
            ],
            "image/png": "[encoded data removed]"
          },
          "metadata": {
            "needs_background": "light"
          }
        },
        {
          "output_type": "stream",
          "name": "stdout",
          "text": [
            "None\n"
          ]
        }
      ],
      "source": [
        "df['instrumentalness'] = instrumentalness_nor\n",
        "print(histogram('instrumentalness'))"
      ]
    },
    {
      "cell_type": "code",
      "execution_count": null,
      "metadata": {
        "colab": {
          "base_uri": "https://localhost:8080/",
          "height": 283
        },
        "id": "s-AOG83qHLr4",
        "outputId": "a8e3af43-edb0-4f14-c362-36e94b25ab02"
      },
      "outputs": [
        {
          "output_type": "display_data",
          "data": {
            "text/plain": [
              "<Figure size 432x288 with 1 Axes>"
            ],
            "image/png": "[encoded data removed]"
          },
          "metadata": {
            "needs_background": "light"
          }
        },
        {
          "output_type": "stream",
          "name": "stdout",
          "text": [
            "None\n"
          ]
        }
      ],
      "source": [
        "df['liveness'] = liveness_nor\n",
        "print(histogram('liveness'))"
      ]
    },
    {
      "cell_type": "code",
      "execution_count": null,
      "metadata": {
        "colab": {
          "base_uri": "https://localhost:8080/",
          "height": 283
        },
        "id": "hqCxZkjqHLen",
        "outputId": "dc3de4f6-c772-4967-bde8-b08a9330ee59"
      },
      "outputs": [
        {
          "output_type": "display_data",
          "data": {
            "text/plain": [
              "<Figure size 432x288 with 1 Axes>"
            ],
            "image/png": "[encoded data removed]"
          },
          "metadata": {
            "needs_background": "light"
          }
        },
        {
          "output_type": "stream",
          "name": "stdout",
          "text": [
            "None\n"
          ]
        }
      ],
      "source": [
        "df['valence'] = valence_nor\n",
        "print(histogram('valence'))"
      ]
    },
    {
      "cell_type": "code",
      "execution_count": null,
      "metadata": {
        "colab": {
          "base_uri": "https://localhost:8080/",
          "height": 283
        },
        "id": "_4q1BCox9tnE",
        "outputId": "93b89875-ca10-4f0c-ec8b-ddcd671ea4cb"
      },
      "outputs": [
        {
          "output_type": "display_data",
          "data": {
            "text/plain": [
              "<Figure size 432x288 with 1 Axes>"
            ],
            "image/png": "[encoded data removed]"
          },
          "metadata": {
            "needs_background": "light"
          }
        },
        {
          "output_type": "stream",
          "name": "stdout",
          "text": [
            "None\n"
          ]
        }
      ],
      "source": [
        "df['tempo'] = tempo_nor\n",
        "print(histogram('tempo'))"
      ]
    },
    {
      "cell_type": "code",
      "execution_count": null,
      "metadata": {
        "colab": {
          "base_uri": "https://localhost:8080/",
          "height": 283
        },
        "id": "nLkSC4OHIA-8",
        "outputId": "2231cf91-4111-47bf-dac6-be07e2bc6b0a"
      },
      "outputs": [
        {
          "output_type": "display_data",
          "data": {
            "text/plain": [
              "<Figure size 432x288 with 1 Axes>"
            ],
            "image/png": "[encoded data removed]"
          },
          "metadata": {
            "needs_background": "light"
          }
        },
        {
          "output_type": "stream",
          "name": "stdout",
          "text": [
            "None\n"
          ]
        }
      ],
      "source": [
        "df['duration'] = duration_nor\n",
        "print(histogram('duration'))"
      ]
    },
    {
      "cell_type": "markdown",
      "metadata": {
        "id": "p43fdna-Kk63"
      },
      "source": [
        "<div dir=\"rtl\">\n",
        "\n",
        "#<font color='#6400E4'><b>שלב 4 - מודל של שני מאפיינים</b></font></div>\n"
      ]
    },
    {
      "cell_type": "code",
      "execution_count": null,
      "metadata": {
        "colab": {
          "base_uri": "https://localhost:8080/",
          "height": 423
        },
        "id": "Pjrw4NDd4qht",
        "outputId": "dae10d2a-029e-4174-de59-06b33126df5d"
      },
      "outputs": [
        {
          "output_type": "execute_result",
          "data": {
            "text/plain": [
              "     instrumentalness   valence  liked\n",
              "0           -0.558211  0.510098      0\n",
              "1           -0.560328  0.104356      1\n",
              "2            2.026485 -1.685378      0\n",
              "3           -0.560324  0.338867      1\n",
              "4           -0.560328  0.580824      1\n",
              "..                ...       ...    ...\n",
              "188         -0.560328  0.863727      1\n",
              "189          1.919783 -1.436721      0\n",
              "190          1.270917 -1.295269      0\n",
              "191         -0.559887  1.455589      0\n",
              "194         -0.560328  0.149025      1\n",
              "\n",
              "[180 rows x 3 columns]"
            ],
            "text/html": [
              "\n",
              "  <div id=\"df-c3247473-0072-47d4-a771-98ba06225d1d\">\n",
              "    <div class=\"colab-df-container\">\n",
              "      <div>\n",
              "<style scoped>\n",
              "    .dataframe tbody tr th:only-of-type {\n",
              "        vertical-align: middle;\n",
              "    }\n",
              "\n",
              "    .dataframe tbody tr th {\n",
              "        vertical-align: top;\n",
              "    }\n",
              "\n",
              "    .dataframe thead th {\n",
              "        text-align: right;\n",
              "    }\n",
              "</style>\n",
              "<table border=\"1\" class=\"dataframe\">\n",
              "  <thead>\n",
              "    <tr style=\"text-align: right;\">\n",
              "      <th></th>\n",
              "      <th>instrumentalness</th>\n",
              "      <th>valence</th>\n",
              "      <th>liked</th>\n",
              "    </tr>\n",
              "  </thead>\n",
              "  <tbody>\n",
              "    <tr>\n",
              "      <th>0</th>\n",
              "      <td>-0.558211</td>\n",
              "      <td>0.510098</td>\n",
              "      <td>0</td>\n",
              "    </tr>\n",
              "    <tr>\n",
              "      <th>1</th>\n",
              "      <td>-0.560328</td>\n",
              "      <td>0.104356</td>\n",
              "      <td>1</td>\n",
              "    </tr>\n",
              "    <tr>\n",
              "      <th>2</th>\n",
              "      <td>2.026485</td>\n",
              "      <td>-1.685378</td>\n",
              "      <td>0</td>\n",
              "    </tr>\n",
              "    <tr>\n",
              "      <th>3</th>\n",
              "      <td>-0.560324</td>\n",
              "      <td>0.338867</td>\n",
              "      <td>1</td>\n",
              "    </tr>\n",
              "    <tr>\n",
              "      <th>4</th>\n",
              "      <td>-0.560328</td>\n",
              "      <td>0.580824</td>\n",
              "      <td>1</td>\n",
              "    </tr>\n",
              "    <tr>\n",
              "      <th>...</th>\n",
              "      <td>...</td>\n",
              "      <td>...</td>\n",
              "      <td>...</td>\n",
              "    </tr>\n",
              "    <tr>\n",
              "      <th>188</th>\n",
              "      <td>-0.560328</td>\n",
              "      <td>0.863727</td>\n",
              "      <td>1</td>\n",
              "    </tr>\n",
              "    <tr>\n",
              "      <th>189</th>\n",
              "      <td>1.919783</td>\n",
              "      <td>-1.436721</td>\n",
              "      <td>0</td>\n",
              "    </tr>\n",
              "    <tr>\n",
              "      <th>190</th>\n",
              "      <td>1.270917</td>\n",
              "      <td>-1.295269</td>\n",
              "      <td>0</td>\n",
              "    </tr>\n",
              "    <tr>\n",
              "      <th>191</th>\n",
              "      <td>-0.559887</td>\n",
              "      <td>1.455589</td>\n",
              "      <td>0</td>\n",
              "    </tr>\n",
              "    <tr>\n",
              "      <th>194</th>\n",
              "      <td>-0.560328</td>\n",
              "      <td>0.149025</td>\n",
              "      <td>1</td>\n",
              "    </tr>\n",
              "  </tbody>\n",
              "</table>\n",
              "<p>180 rows × 3 columns</p>\n",
              "</div>\n",
              "      <button class=\"colab-df-convert\" onclick=\"convertToInteractive('df-c3247473-0072-47d4-a771-98ba06225d1d')\"\n",
              "              title=\"Convert this dataframe to an interactive table.\"\n",
              "              style=\"display:none;\">\n",
              "        \n",
              "  <svg xmlns=\"http://www.w3.org/2000/svg\" height=\"24px\"viewBox=\"0 0 24 24\"\n",
              "       width=\"24px\">\n",
              "    <path d=\"M0 0h24v24H0V0z\" fill=\"none\"/>\n",
              "    <path d=\"M18.56 5.44l.94 2.06.94-2.06 2.06-.94-2.06-.94-.94-2.06-.94 2.06-2.06.94zm-11 1L8.5 8.5l.94-2.06 2.06-.94-2.06-.94L8.5 2.5l-.94 2.06-2.06.94zm10 10l.94 2.06.94-2.06 2.06-.94-2.06-.94-.94-2.06-.94 2.06-2.06.94z\"/><path d=\"M17.41 7.96l-1.37-1.37c-.4-.4-.92-.59-1.43-.59-.52 0-1.04.2-1.43.59L10.3 9.45l-7.72 7.72c-.78.78-.78 2.05 0 2.83L4 21.41c.39.39.9.59 1.41.59.51 0 1.02-.2 1.41-.59l7.78-7.78 2.81-2.81c.8-.78.8-2.07 0-2.86zM5.41 20L4 18.59l7.72-7.72 1.47 1.35L5.41 20z\"/>\n",
              "  </svg>\n",
              "      </button>\n",
              "      \n",
              "  <style>\n",
              "    .colab-df-container {\n",
              "      display:flex;\n",
              "      flex-wrap:wrap;\n",
              "      gap: 12px;\n",
              "    }\n",
              "\n",
              "    .colab-df-convert {\n",
              "      background-color: #E8F0FE;\n",
              "      border: none;\n",
              "      border-radius: 50%;\n",
              "      cursor: pointer;\n",
              "      display: none;\n",
              "      fill: #1967D2;\n",
              "      height: 32px;\n",
              "      padding: 0 0 0 0;\n",
              "      width: 32px;\n",
              "    }\n",
              "\n",
              "    .colab-df-convert:hover {\n",
              "      background-color: #E2EBFA;\n",
              "      box-shadow: 0px 1px 2px rgba(60, 64, 67, 0.3), 0px 1px 3px 1px rgba(60, 64, 67, 0.15);\n",
              "      fill: #174EA6;\n",
              "    }\n",
              "\n",
              "    [theme=dark] .colab-df-convert {\n",
              "      background-color: #3B4455;\n",
              "      fill: #D2E3FC;\n",
              "    }\n",
              "\n",
              "    [theme=dark] .colab-df-convert:hover {\n",
              "      background-color: #434B5C;\n",
              "      box-shadow: 0px 1px 3px 1px rgba(0, 0, 0, 0.15);\n",
              "      filter: drop-shadow(0px 1px 2px rgba(0, 0, 0, 0.3));\n",
              "      fill: #FFFFFF;\n",
              "    }\n",
              "  </style>\n",
              "\n",
              "      <script>\n",
              "        const buttonEl =\n",
              "          document.querySelector('#df-c3247473-0072-47d4-a771-98ba06225d1d button.colab-df-convert');\n",
              "        buttonEl.style.display =\n",
              "          google.colab.kernel.accessAllowed ? 'block' : 'none';\n",
              "\n",
              "        async function convertToInteractive(key) {\n",
              "          const element = document.querySelector('#df-c3247473-0072-47d4-a771-98ba06225d1d');\n",
              "          const dataTable =\n",
              "            await google.colab.kernel.invokeFunction('convertToInteractive',\n",
              "                                                     [key], {});\n",
              "          if (!dataTable) return;\n",
              "\n",
              "          const docLinkHtml = 'Like what you see? Visit the ' +\n",
              "            '<a target=\"_blank\" href=https://colab.research.google.com/notebooks/data_table.ipynb>data table notebook</a>'\n",
              "            + ' to learn more about interactive tables.';\n",
              "          element.innerHTML = '';\n",
              "          dataTable['output_type'] = 'display_data';\n",
              "          await google.colab.output.renderOutput(dataTable, element);\n",
              "          const docLink = document.createElement('div');\n",
              "          docLink.innerHTML = docLinkHtml;\n",
              "          element.appendChild(docLink);\n",
              "        }\n",
              "      </script>\n",
              "    </div>\n",
              "  </div>\n",
              "  "
            ]
          },
          "metadata": {},
          "execution_count": 55
        }
      ],
      "source": [
        "data = df.iloc[:,[7,9,13]]\n",
        "data"
      ]
    },
    {
      "cell_type": "code",
      "execution_count": null,
      "metadata": {
        "id": "de18Xkj7P5jk",
        "colab": {
          "base_uri": "https://localhost:8080/"
        },
        "outputId": "0b195b7f-00c9-4f68-a30f-b8f15ca72e87"
      },
      "outputs": [
        {
          "output_type": "stream",
          "name": "stderr",
          "text": [
            "/usr/local/lib/python3.7/dist-packages/sklearn/neighbors/_classification.py:198: DataConversionWarning: A column-vector y was passed when a 1d array was expected. Please change the shape of y to (n_samples,), for example using ravel().\n",
            "  return self._fit(X, y)\n"
          ]
        },
        {
          "output_type": "execute_result",
          "data": {
            "text/plain": [
              "KNeighborsClassifier(algorithm='brute')"
            ]
          },
          "metadata": {},
          "execution_count": 85
        }
      ],
      "source": [
        "import sklearn.neighbors\n",
        "import sklearn.model_selection\n",
        "import sklearn.datasets\n",
        "import numpy as np\n",
        "from sklearn import utils\n",
        "from sklearn.metrics import accuracy_score\n",
        "lab_enc = preprocessing.LabelEncoder()\n",
        "X = data.iloc[:,[0,1]].to_numpy()\n",
        "Y = data.iloc[:,[2]].to_numpy()\n",
        "x_train, x_test, y_train, y_test=sklearn.model_selection.train_test_split(X,Y,test_size=0.3,random_state=1)\n",
        "k = 5\n",
        "model = sklearn.neighbors.KNeighborsClassifier(k,algorithm='brute')\n",
        "model.fit(x_train,y_train)"
      ]
    },
    {
      "cell_type": "code",
      "execution_count": null,
      "metadata": {
        "id": "fZYSv5thTfno"
      },
      "outputs": [],
      "source": [
        "#@title\n",
        "import numpy as np\n",
        "from matplotlib.colors import ListedColormap\n",
        "# this function will plot your model decision boundary. don't worry about the implementation :)\n",
        "\n",
        "def plot_decision_boundary(model):\n",
        "    cmap_light = ListedColormap([\"cyan\",\"orange\"])\n",
        "\n",
        "    x_min, x_max = X.min() - 1, X.max() + 1\n",
        "    y_min, y_max = Y.min() - 3,Y.max() + 1\n",
        "    xx, yy = np.meshgrid(np.arange(x_min, x_max, 0.02), np.arange(y_min, y_max, 0.02))\n",
        "    Z = model.predict(np.c_[xx.ravel(), yy.ravel()])\n",
        "\n",
        "    Z = Z.reshape(xx.shape)\n",
        "    plt.contourf(xx, yy, Z, cmap=cmap_light, alpha=0.5)\n",
        "\n",
        "# this function will plot your data. don't worry about the implementation :)\n",
        "\n",
        "def plot_data(X, y):\n",
        "    labels = [0, 1]\n",
        "    cmap_bold = [\"c\",\"darkorange\"]\n",
        "\n",
        "    for label in labels:\n",
        "        label_indices = [i for i in range(len(y)) if y[i] == label]\n",
        "        label_X = X[label_indices,:]\n",
        "        plt.scatter(x=label_X[:, 0], y=label_X[:, 1], c=cmap_bold[label], label=label)\n",
        "    plt.legend()"
      ]
    },
    {
      "cell_type": "code",
      "execution_count": null,
      "metadata": {
        "colab": {
          "base_uri": "https://localhost:8080/",
          "height": 265
        },
        "id": "IOBQWv5FXD2O",
        "outputId": "87b0d271-fc91-4dec-cbed-8f41ccaeeb54"
      },
      "outputs": [
        {
          "output_type": "display_data",
          "data": {
            "text/plain": [
              "<Figure size 432x288 with 1 Axes>"
            ],
            "image/png": "[encoded data removed]"
          },
          "metadata": {
            "needs_background": "light"
          }
        }
      ],
      "source": [
        "plot_decision_boundary(model)\n",
        "plot_data(X,Y)"
      ]
    },
    {
      "cell_type": "markdown",
      "metadata": {
        "id": "_yjz1MeYUn_Q"
      },
      "source": [
        "<div dir=\"rtl\">\n",
        "\n",
        "#<font color='#6400E4'><b>שלב 5 - מודל רב מאפיינים - משתנים רציפים בלבד</b></font></div>\n"
      ]
    },
    {
      "cell_type": "code",
      "source": [
        "X = df.loc[:,[\"danceability\",\"energy\",\"loudness\",\"speechiness\",\"instrumentalness\",\"liveness\",\"valence\",\"tempo\",\"acousticness\"]].to_numpy()\n",
        "Y = df.loc[:,[\"liked\"]].to_numpy()\n",
        "x_train, x_test, y_train, y_test=sklearn.model_selection.train_test_split(X,Y,test_size=0.3,random_state=1)\n",
        "model = sklearn.neighbors.KNeighborsClassifier(k,algorithm='brute')\n",
        "model.fit(x_train,y_train)"
      ],
      "metadata": {
        "colab": {
          "base_uri": "https://localhost:8080/"
        },
        "id": "8CwgiYjJYnk4",
        "outputId": "ac3448af-06d8-4c7b-cc8a-67da798986a1"
      },
      "execution_count": null,
      "outputs": [
        {
          "output_type": "stream",
          "name": "stderr",
          "text": [
            "/usr/local/lib/python3.7/dist-packages/sklearn/neighbors/_classification.py:198: DataConversionWarning: A column-vector y was passed when a 1d array was expected. Please change the shape of y to (n_samples,), for example using ravel().\n",
            "  return self._fit(X, y)\n"
          ]
        },
        {
          "output_type": "execute_result",
          "data": {
            "text/plain": [
              "KNeighborsClassifier(algorithm='brute')"
            ]
          },
          "metadata": {},
          "execution_count": 88
        }
      ]
    },
    {
      "cell_type": "code",
      "source": [
        "from sklearn.metrics import confusion_matrix\n",
        "x_pred = model.predict(x_test)\n",
        "confusion_matrix(y_test, x_pred)"
      ],
      "metadata": {
        "colab": {
          "base_uri": "https://localhost:8080/"
        },
        "id": "UqI8Znd0b4Yd",
        "outputId": "3acfd4d4-7535-4d95-b2d3-191a5ce12b54"
      },
      "execution_count": null,
      "outputs": [
        {
          "output_type": "execute_result",
          "data": {
            "text/plain": [
              "array([[27,  1],\n",
              "       [ 1, 25]])"
            ]
          },
          "metadata": {},
          "execution_count": 89
        }
      ]
    },
    {
      "cell_type": "code",
      "source": [
        "accuracy_score(y_test, x_pred)"
      ],
      "metadata": {
        "colab": {
          "base_uri": "https://localhost:8080/"
        },
        "id": "oo3V1_CBbW45",
        "outputId": "a379d08e-079f-48eb-f1e0-aadadcbf2d86"
      },
      "execution_count": null,
      "outputs": [
        {
          "output_type": "execute_result",
          "data": {
            "text/plain": [
              "0.9629629629629629"
            ]
          },
          "metadata": {},
          "execution_count": 66
        }
      ]
    },
    {
      "cell_type": "markdown",
      "metadata": {
        "id": "eyZoyuNDVvg_"
      },
      "source": [
        "<div dir=\"rtl\">\n",
        "\n",
        "#<font color='#6400E4'><b>שלב 6 - מודל רב מאפיינים - משתנים רציפים וקטגוריאלים</b></font></div>"
      ]
    },
    {
      "cell_type": "code",
      "source": [
        "data_two = df\n",
        "dummy_key = pd.get_dummies(df['key'])\n",
        "dummy_d = pd.get_dummies(df['duration_ms'])\n",
        "dummy_t = pd.get_dummies(df['time_signature'])\n",
        "data_two['key'] = dummy_key.to_numpy()\n",
        "data_two['duration_ms'] = dummy_d.to_numpy()\n",
        "data_two['time_signature'] = dummy_t.to_numpy()"
      ],
      "metadata": {
        "id": "2gt7YfqbdQoB"
      },
      "execution_count": null,
      "outputs": []
    },
    {
      "cell_type": "code",
      "source": [
        "X_three = data_two.loc[:,[\"danceability\",\"energy\",\"loudness\"\n",
        "                          ,\"speechiness\",\"instrumentalness\",\n",
        "                            \"liveness\",\"valence\",\"tempo\",\"acousticness\",\n",
        "                              \"key\",\"duration_ms\",\"time_signature\"]].to_numpy()\n",
        "Y_three = data_two.iloc[:,[13]].to_numpy()\n",
        "x_train_three, x_test_three, y_train_three, y_test_three=sklearn.model_selection.train_test_split(X_three,Y_three,test_size=0.3,random_state=1)\n",
        "k_three = 3\n",
        "model_three = sklearn.neighbors.KNeighborsClassifier(k_three,algorithm='brute')\n",
        "model_three.fit(x_train_three,y_train_three)"
      ],
      "metadata": {
        "colab": {
          "base_uri": "https://localhost:8080/"
        },
        "id": "YaToblBHi9Ba",
        "outputId": "ddf9ef85-3cd2-4f13-b031-a0b57b3ed0b6"
      },
      "execution_count": null,
      "outputs": [
        {
          "output_type": "stream",
          "name": "stderr",
          "text": [
            "/usr/local/lib/python3.7/dist-packages/sklearn/neighbors/_classification.py:198: DataConversionWarning: A column-vector y was passed when a 1d array was expected. Please change the shape of y to (n_samples,), for example using ravel().\n",
            "  return self._fit(X, y)\n"
          ]
        },
        {
          "output_type": "execute_result",
          "data": {
            "text/plain": [
              "KNeighborsClassifier(algorithm='brute', n_neighbors=3)"
            ]
          },
          "metadata": {},
          "execution_count": 67
        }
      ]
    },
    {
      "cell_type": "code",
      "source": [
        "x_pred_three = model_three.predict(x_test_three)\n",
        "accuracy_score(y_test_three, x_pred_three)"
      ],
      "metadata": {
        "colab": {
          "base_uri": "https://localhost:8080/"
        },
        "id": "bJGAfDECmniv",
        "outputId": "0eeeb99c-fdc4-4676-a66e-ac0a174e4fd9"
      },
      "execution_count": null,
      "outputs": [
        {
          "output_type": "execute_result",
          "data": {
            "text/plain": [
              "0.9074074074074074"
            ]
          },
          "metadata": {},
          "execution_count": 68
        }
      ]
    },
    {
      "cell_type": "code",
      "source": [
        "for i in range(1,41):\n",
        "  k_three = i\n",
        "  model_three = sklearn.neighbors.KNeighborsClassifier(k_three,algorithm='brute')\n",
        "  model_three.fit(x_train_three,y_train_three)\n",
        "  x_pred_three = model_three.predict(x_test_three)\n",
        "  print(accuracy_score(y_test_three, x_pred_three))"
      ],
      "metadata": {
        "colab": {
          "base_uri": "https://localhost:8080/"
        },
        "id": "hjlvvZAWnvaA",
        "outputId": "e8759746-5676-4320-da0f-881ac2e75add"
      },
      "execution_count": null,
      "outputs": [
        {
          "output_type": "stream",
          "name": "stdout",
          "text": [
            "0.8703703703703703\n",
            "0.8888888888888888\n",
            "0.9074074074074074\n",
            "0.9444444444444444\n",
            "0.9629629629629629\n",
            "0.9629629629629629\n",
            "0.9444444444444444\n",
            "0.9444444444444444\n",
            "0.9629629629629629\n",
            "0.9444444444444444\n",
            "0.9259259259259259\n",
            "0.9444444444444444\n",
            "0.8518518518518519\n",
            "0.8888888888888888\n",
            "0.8333333333333334\n",
            "0.8148148148148148\n",
            "0.8333333333333334\n",
            "0.8333333333333334\n",
            "0.7962962962962963\n",
            "0.8148148148148148\n",
            "0.7777777777777778\n",
            "0.7962962962962963\n",
            "0.7407407407407407\n",
            "0.7592592592592593\n",
            "0.7407407407407407\n",
            "0.7222222222222222\n",
            "0.7037037037037037\n",
            "0.7222222222222222\n",
            "0.7222222222222222\n",
            "0.7222222222222222\n",
            "0.7222222222222222\n",
            "0.7592592592592593\n",
            "0.7222222222222222\n",
            "0.7222222222222222\n",
            "0.7222222222222222\n",
            "0.7407407407407407\n",
            "0.7037037037037037\n",
            "0.7222222222222222\n",
            "0.7037037037037037\n",
            "0.7037037037037037\n"
          ]
        },
        {
          "output_type": "stream",
          "name": "stderr",
          "text": [
            "/usr/local/lib/python3.7/dist-packages/sklearn/neighbors/_classification.py:198: DataConversionWarning: A column-vector y was passed when a 1d array was expected. Please change the shape of y to (n_samples,), for example using ravel().\n",
            "  return self._fit(X, y)\n",
            "/usr/local/lib/python3.7/dist-packages/sklearn/neighbors/_classification.py:198: DataConversionWarning: A column-vector y was passed when a 1d array was expected. Please change the shape of y to (n_samples,), for example using ravel().\n",
            "  return self._fit(X, y)\n",
            "/usr/local/lib/python3.7/dist-packages/sklearn/neighbors/_classification.py:198: DataConversionWarning: A column-vector y was passed when a 1d array was expected. Please change the shape of y to (n_samples,), for example using ravel().\n",
            "  return self._fit(X, y)\n",
            "/usr/local/lib/python3.7/dist-packages/sklearn/neighbors/_classification.py:198: DataConversionWarning: A column-vector y was passed when a 1d array was expected. Please change the shape of y to (n_samples,), for example using ravel().\n",
            "  return self._fit(X, y)\n",
            "/usr/local/lib/python3.7/dist-packages/sklearn/neighbors/_classification.py:198: DataConversionWarning: A column-vector y was passed when a 1d array was expected. Please change the shape of y to (n_samples,), for example using ravel().\n",
            "  return self._fit(X, y)\n",
            "/usr/local/lib/python3.7/dist-packages/sklearn/neighbors/_classification.py:198: DataConversionWarning: A column-vector y was passed when a 1d array was expected. Please change the shape of y to (n_samples,), for example using ravel().\n",
            "  return self._fit(X, y)\n",
            "/usr/local/lib/python3.7/dist-packages/sklearn/neighbors/_classification.py:198: DataConversionWarning: A column-vector y was passed when a 1d array was expected. Please change the shape of y to (n_samples,), for example using ravel().\n",
            "  return self._fit(X, y)\n",
            "/usr/local/lib/python3.7/dist-packages/sklearn/neighbors/_classification.py:198: DataConversionWarning: A column-vector y was passed when a 1d array was expected. Please change the shape of y to (n_samples,), for example using ravel().\n",
            "  return self._fit(X, y)\n",
            "/usr/local/lib/python3.7/dist-packages/sklearn/neighbors/_classification.py:198: DataConversionWarning: A column-vector y was passed when a 1d array was expected. Please change the shape of y to (n_samples,), for example using ravel().\n",
            "  return self._fit(X, y)\n",
            "/usr/local/lib/python3.7/dist-packages/sklearn/neighbors/_classification.py:198: DataConversionWarning: A column-vector y was passed when a 1d array was expected. Please change the shape of y to (n_samples,), for example using ravel().\n",
            "  return self._fit(X, y)\n",
            "/usr/local/lib/python3.7/dist-packages/sklearn/neighbors/_classification.py:198: DataConversionWarning: A column-vector y was passed when a 1d array was expected. Please change the shape of y to (n_samples,), for example using ravel().\n",
            "  return self._fit(X, y)\n",
            "/usr/local/lib/python3.7/dist-packages/sklearn/neighbors/_classification.py:198: DataConversionWarning: A column-vector y was passed when a 1d array was expected. Please change the shape of y to (n_samples,), for example using ravel().\n",
            "  return self._fit(X, y)\n",
            "/usr/local/lib/python3.7/dist-packages/sklearn/neighbors/_classification.py:198: DataConversionWarning: A column-vector y was passed when a 1d array was expected. Please change the shape of y to (n_samples,), for example using ravel().\n",
            "  return self._fit(X, y)\n",
            "/usr/local/lib/python3.7/dist-packages/sklearn/neighbors/_classification.py:198: DataConversionWarning: A column-vector y was passed when a 1d array was expected. Please change the shape of y to (n_samples,), for example using ravel().\n",
            "  return self._fit(X, y)\n",
            "/usr/local/lib/python3.7/dist-packages/sklearn/neighbors/_classification.py:198: DataConversionWarning: A column-vector y was passed when a 1d array was expected. Please change the shape of y to (n_samples,), for example using ravel().\n",
            "  return self._fit(X, y)\n",
            "/usr/local/lib/python3.7/dist-packages/sklearn/neighbors/_classification.py:198: DataConversionWarning: A column-vector y was passed when a 1d array was expected. Please change the shape of y to (n_samples,), for example using ravel().\n",
            "  return self._fit(X, y)\n",
            "/usr/local/lib/python3.7/dist-packages/sklearn/neighbors/_classification.py:198: DataConversionWarning: A column-vector y was passed when a 1d array was expected. Please change the shape of y to (n_samples,), for example using ravel().\n",
            "  return self._fit(X, y)\n",
            "/usr/local/lib/python3.7/dist-packages/sklearn/neighbors/_classification.py:198: DataConversionWarning: A column-vector y was passed when a 1d array was expected. Please change the shape of y to (n_samples,), for example using ravel().\n",
            "  return self._fit(X, y)\n",
            "/usr/local/lib/python3.7/dist-packages/sklearn/neighbors/_classification.py:198: DataConversionWarning: A column-vector y was passed when a 1d array was expected. Please change the shape of y to (n_samples,), for example using ravel().\n",
            "  return self._fit(X, y)\n",
            "/usr/local/lib/python3.7/dist-packages/sklearn/neighbors/_classification.py:198: DataConversionWarning: A column-vector y was passed when a 1d array was expected. Please change the shape of y to (n_samples,), for example using ravel().\n",
            "  return self._fit(X, y)\n",
            "/usr/local/lib/python3.7/dist-packages/sklearn/neighbors/_classification.py:198: DataConversionWarning: A column-vector y was passed when a 1d array was expected. Please change the shape of y to (n_samples,), for example using ravel().\n",
            "  return self._fit(X, y)\n",
            "/usr/local/lib/python3.7/dist-packages/sklearn/neighbors/_classification.py:198: DataConversionWarning: A column-vector y was passed when a 1d array was expected. Please change the shape of y to (n_samples,), for example using ravel().\n",
            "  return self._fit(X, y)\n",
            "/usr/local/lib/python3.7/dist-packages/sklearn/neighbors/_classification.py:198: DataConversionWarning: A column-vector y was passed when a 1d array was expected. Please change the shape of y to (n_samples,), for example using ravel().\n",
            "  return self._fit(X, y)\n",
            "/usr/local/lib/python3.7/dist-packages/sklearn/neighbors/_classification.py:198: DataConversionWarning: A column-vector y was passed when a 1d array was expected. Please change the shape of y to (n_samples,), for example using ravel().\n",
            "  return self._fit(X, y)\n",
            "/usr/local/lib/python3.7/dist-packages/sklearn/neighbors/_classification.py:198: DataConversionWarning: A column-vector y was passed when a 1d array was expected. Please change the shape of y to (n_samples,), for example using ravel().\n",
            "  return self._fit(X, y)\n",
            "/usr/local/lib/python3.7/dist-packages/sklearn/neighbors/_classification.py:198: DataConversionWarning: A column-vector y was passed when a 1d array was expected. Please change the shape of y to (n_samples,), for example using ravel().\n",
            "  return self._fit(X, y)\n",
            "/usr/local/lib/python3.7/dist-packages/sklearn/neighbors/_classification.py:198: DataConversionWarning: A column-vector y was passed when a 1d array was expected. Please change the shape of y to (n_samples,), for example using ravel().\n",
            "  return self._fit(X, y)\n",
            "/usr/local/lib/python3.7/dist-packages/sklearn/neighbors/_classification.py:198: DataConversionWarning: A column-vector y was passed when a 1d array was expected. Please change the shape of y to (n_samples,), for example using ravel().\n",
            "  return self._fit(X, y)\n",
            "/usr/local/lib/python3.7/dist-packages/sklearn/neighbors/_classification.py:198: DataConversionWarning: A column-vector y was passed when a 1d array was expected. Please change the shape of y to (n_samples,), for example using ravel().\n",
            "  return self._fit(X, y)\n",
            "/usr/local/lib/python3.7/dist-packages/sklearn/neighbors/_classification.py:198: DataConversionWarning: A column-vector y was passed when a 1d array was expected. Please change the shape of y to (n_samples,), for example using ravel().\n",
            "  return self._fit(X, y)\n",
            "/usr/local/lib/python3.7/dist-packages/sklearn/neighbors/_classification.py:198: DataConversionWarning: A column-vector y was passed when a 1d array was expected. Please change the shape of y to (n_samples,), for example using ravel().\n",
            "  return self._fit(X, y)\n",
            "/usr/local/lib/python3.7/dist-packages/sklearn/neighbors/_classification.py:198: DataConversionWarning: A column-vector y was passed when a 1d array was expected. Please change the shape of y to (n_samples,), for example using ravel().\n",
            "  return self._fit(X, y)\n",
            "/usr/local/lib/python3.7/dist-packages/sklearn/neighbors/_classification.py:198: DataConversionWarning: A column-vector y was passed when a 1d array was expected. Please change the shape of y to (n_samples,), for example using ravel().\n",
            "  return self._fit(X, y)\n",
            "/usr/local/lib/python3.7/dist-packages/sklearn/neighbors/_classification.py:198: DataConversionWarning: A column-vector y was passed when a 1d array was expected. Please change the shape of y to (n_samples,), for example using ravel().\n",
            "  return self._fit(X, y)\n",
            "/usr/local/lib/python3.7/dist-packages/sklearn/neighbors/_classification.py:198: DataConversionWarning: A column-vector y was passed when a 1d array was expected. Please change the shape of y to (n_samples,), for example using ravel().\n",
            "  return self._fit(X, y)\n",
            "/usr/local/lib/python3.7/dist-packages/sklearn/neighbors/_classification.py:198: DataConversionWarning: A column-vector y was passed when a 1d array was expected. Please change the shape of y to (n_samples,), for example using ravel().\n",
            "  return self._fit(X, y)\n",
            "/usr/local/lib/python3.7/dist-packages/sklearn/neighbors/_classification.py:198: DataConversionWarning: A column-vector y was passed when a 1d array was expected. Please change the shape of y to (n_samples,), for example using ravel().\n",
            "  return self._fit(X, y)\n",
            "/usr/local/lib/python3.7/dist-packages/sklearn/neighbors/_classification.py:198: DataConversionWarning: A column-vector y was passed when a 1d array was expected. Please change the shape of y to (n_samples,), for example using ravel().\n",
            "  return self._fit(X, y)\n",
            "/usr/local/lib/python3.7/dist-packages/sklearn/neighbors/_classification.py:198: DataConversionWarning: A column-vector y was passed when a 1d array was expected. Please change the shape of y to (n_samples,), for example using ravel().\n",
            "  return self._fit(X, y)\n",
            "/usr/local/lib/python3.7/dist-packages/sklearn/neighbors/_classification.py:198: DataConversionWarning: A column-vector y was passed when a 1d array was expected. Please change the shape of y to (n_samples,), for example using ravel().\n",
            "  return self._fit(X, y)\n"
          ]
        }
      ]
    },
    {
      "cell_type": "code",
      "source": [
        "x = []\n",
        "y = []\n",
        "\n",
        "for i in range(1,41):\n",
        "  k_three = i\n",
        "  x += [k_three]\n",
        "  model_three = sklearn.neighbors.KNeighborsClassifier(k_three,algorithm='brute')\n",
        "  model_three.fit(x_train_three,y_train_three)\n",
        "  x_pred_three = model_three.predict(x_test_three)\n",
        "  y += [accuracy_score(y_test_three, x_pred_three)]\n",
        "\n",
        "plt.scatter(x, y)\n",
        "plt.title(\"k compared to its Accuracy score\")\n",
        "plt.xlabel(\"K\")\n",
        "plt.ylabel(\"Accuracy score\")\n",
        "plt.show()"
      ],
      "metadata": {
        "colab": {
          "base_uri": "https://localhost:8080/",
          "height": 1000
        },
        "id": "Cg5Q_6Bt6nvc",
        "outputId": "4677f377-0466-468f-adda-2001f4608a64"
      },
      "execution_count": null,
      "outputs": [
        {
          "output_type": "stream",
          "name": "stderr",
          "text": [
            "/usr/local/lib/python3.7/dist-packages/sklearn/neighbors/_classification.py:198: DataConversionWarning: A column-vector y was passed when a 1d array was expected. Please change the shape of y to (n_samples,), for example using ravel().\n",
            "  return self._fit(X, y)\n",
            "/usr/local/lib/python3.7/dist-packages/sklearn/neighbors/_classification.py:198: DataConversionWarning: A column-vector y was passed when a 1d array was expected. Please change the shape of y to (n_samples,), for example using ravel().\n",
            "  return self._fit(X, y)\n",
            "/usr/local/lib/python3.7/dist-packages/sklearn/neighbors/_classification.py:198: DataConversionWarning: A column-vector y was passed when a 1d array was expected. Please change the shape of y to (n_samples,), for example using ravel().\n",
            "  return self._fit(X, y)\n",
            "/usr/local/lib/python3.7/dist-packages/sklearn/neighbors/_classification.py:198: DataConversionWarning: A column-vector y was passed when a 1d array was expected. Please change the shape of y to (n_samples,), for example using ravel().\n",
            "  return self._fit(X, y)\n",
            "/usr/local/lib/python3.7/dist-packages/sklearn/neighbors/_classification.py:198: DataConversionWarning: A column-vector y was passed when a 1d array was expected. Please change the shape of y to (n_samples,), for example using ravel().\n",
            "  return self._fit(X, y)\n",
            "/usr/local/lib/python3.7/dist-packages/sklearn/neighbors/_classification.py:198: DataConversionWarning: A column-vector y was passed when a 1d array was expected. Please change the shape of y to (n_samples,), for example using ravel().\n",
            "  return self._fit(X, y)\n",
            "/usr/local/lib/python3.7/dist-packages/sklearn/neighbors/_classification.py:198: DataConversionWarning: A column-vector y was passed when a 1d array was expected. Please change the shape of y to (n_samples,), for example using ravel().\n",
            "  return self._fit(X, y)\n",
            "/usr/local/lib/python3.7/dist-packages/sklearn/neighbors/_classification.py:198: DataConversionWarning: A column-vector y was passed when a 1d array was expected. Please change the shape of y to (n_samples,), for example using ravel().\n",
            "  return self._fit(X, y)\n",
            "/usr/local/lib/python3.7/dist-packages/sklearn/neighbors/_classification.py:198: DataConversionWarning: A column-vector y was passed when a 1d array was expected. Please change the shape of y to (n_samples,), for example using ravel().\n",
            "  return self._fit(X, y)\n",
            "/usr/local/lib/python3.7/dist-packages/sklearn/neighbors/_classification.py:198: DataConversionWarning: A column-vector y was passed when a 1d array was expected. Please change the shape of y to (n_samples,), for example using ravel().\n",
            "  return self._fit(X, y)\n",
            "/usr/local/lib/python3.7/dist-packages/sklearn/neighbors/_classification.py:198: DataConversionWarning: A column-vector y was passed when a 1d array was expected. Please change the shape of y to (n_samples,), for example using ravel().\n",
            "  return self._fit(X, y)\n",
            "/usr/local/lib/python3.7/dist-packages/sklearn/neighbors/_classification.py:198: DataConversionWarning: A column-vector y was passed when a 1d array was expected. Please change the shape of y to (n_samples,), for example using ravel().\n",
            "  return self._fit(X, y)\n",
            "/usr/local/lib/python3.7/dist-packages/sklearn/neighbors/_classification.py:198: DataConversionWarning: A column-vector y was passed when a 1d array was expected. Please change the shape of y to (n_samples,), for example using ravel().\n",
            "  return self._fit(X, y)\n",
            "/usr/local/lib/python3.7/dist-packages/sklearn/neighbors/_classification.py:198: DataConversionWarning: A column-vector y was passed when a 1d array was expected. Please change the shape of y to (n_samples,), for example using ravel().\n",
            "  return self._fit(X, y)\n",
            "/usr/local/lib/python3.7/dist-packages/sklearn/neighbors/_classification.py:198: DataConversionWarning: A column-vector y was passed when a 1d array was expected. Please change the shape of y to (n_samples,), for example using ravel().\n",
            "  return self._fit(X, y)\n",
            "/usr/local/lib/python3.7/dist-packages/sklearn/neighbors/_classification.py:198: DataConversionWarning: A column-vector y was passed when a 1d array was expected. Please change the shape of y to (n_samples,), for example using ravel().\n",
            "  return self._fit(X, y)\n",
            "/usr/local/lib/python3.7/dist-packages/sklearn/neighbors/_classification.py:198: DataConversionWarning: A column-vector y was passed when a 1d array was expected. Please change the shape of y to (n_samples,), for example using ravel().\n",
            "  return self._fit(X, y)\n",
            "/usr/local/lib/python3.7/dist-packages/sklearn/neighbors/_classification.py:198: DataConversionWarning: A column-vector y was passed when a 1d array was expected. Please change the shape of y to (n_samples,), for example using ravel().\n",
            "  return self._fit(X, y)\n",
            "/usr/local/lib/python3.7/dist-packages/sklearn/neighbors/_classification.py:198: DataConversionWarning: A column-vector y was passed when a 1d array was expected. Please change the shape of y to (n_samples,), for example using ravel().\n",
            "  return self._fit(X, y)\n",
            "/usr/local/lib/python3.7/dist-packages/sklearn/neighbors/_classification.py:198: DataConversionWarning: A column-vector y was passed when a 1d array was expected. Please change the shape of y to (n_samples,), for example using ravel().\n",
            "  return self._fit(X, y)\n",
            "/usr/local/lib/python3.7/dist-packages/sklearn/neighbors/_classification.py:198: DataConversionWarning: A column-vector y was passed when a 1d array was expected. Please change the shape of y to (n_samples,), for example using ravel().\n",
            "  return self._fit(X, y)\n",
            "/usr/local/lib/python3.7/dist-packages/sklearn/neighbors/_classification.py:198: DataConversionWarning: A column-vector y was passed when a 1d array was expected. Please change the shape of y to (n_samples,), for example using ravel().\n",
            "  return self._fit(X, y)\n",
            "/usr/local/lib/python3.7/dist-packages/sklearn/neighbors/_classification.py:198: DataConversionWarning: A column-vector y was passed when a 1d array was expected. Please change the shape of y to (n_samples,), for example using ravel().\n",
            "  return self._fit(X, y)\n",
            "/usr/local/lib/python3.7/dist-packages/sklearn/neighbors/_classification.py:198: DataConversionWarning: A column-vector y was passed when a 1d array was expected. Please change the shape of y to (n_samples,), for example using ravel().\n",
            "  return self._fit(X, y)\n",
            "/usr/local/lib/python3.7/dist-packages/sklearn/neighbors/_classification.py:198: DataConversionWarning: A column-vector y was passed when a 1d array was expected. Please change the shape of y to (n_samples,), for example using ravel().\n",
            "  return self._fit(X, y)\n",
            "/usr/local/lib/python3.7/dist-packages/sklearn/neighbors/_classification.py:198: DataConversionWarning: A column-vector y was passed when a 1d array was expected. Please change the shape of y to (n_samples,), for example using ravel().\n",
            "  return self._fit(X, y)\n",
            "/usr/local/lib/python3.7/dist-packages/sklearn/neighbors/_classification.py:198: DataConversionWarning: A column-vector y was passed when a 1d array was expected. Please change the shape of y to (n_samples,), for example using ravel().\n",
            "  return self._fit(X, y)\n",
            "/usr/local/lib/python3.7/dist-packages/sklearn/neighbors/_classification.py:198: DataConversionWarning: A column-vector y was passed when a 1d array was expected. Please change the shape of y to (n_samples,), for example using ravel().\n",
            "  return self._fit(X, y)\n",
            "/usr/local/lib/python3.7/dist-packages/sklearn/neighbors/_classification.py:198: DataConversionWarning: A column-vector y was passed when a 1d array was expected. Please change the shape of y to (n_samples,), for example using ravel().\n",
            "  return self._fit(X, y)\n",
            "/usr/local/lib/python3.7/dist-packages/sklearn/neighbors/_classification.py:198: DataConversionWarning: A column-vector y was passed when a 1d array was expected. Please change the shape of y to (n_samples,), for example using ravel().\n",
            "  return self._fit(X, y)\n",
            "/usr/local/lib/python3.7/dist-packages/sklearn/neighbors/_classification.py:198: DataConversionWarning: A column-vector y was passed when a 1d array was expected. Please change the shape of y to (n_samples,), for example using ravel().\n",
            "  return self._fit(X, y)\n",
            "/usr/local/lib/python3.7/dist-packages/sklearn/neighbors/_classification.py:198: DataConversionWarning: A column-vector y was passed when a 1d array was expected. Please change the shape of y to (n_samples,), for example using ravel().\n",
            "  return self._fit(X, y)\n",
            "/usr/local/lib/python3.7/dist-packages/sklearn/neighbors/_classification.py:198: DataConversionWarning: A column-vector y was passed when a 1d array was expected. Please change the shape of y to (n_samples,), for example using ravel().\n",
            "  return self._fit(X, y)\n",
            "/usr/local/lib/python3.7/dist-packages/sklearn/neighbors/_classification.py:198: DataConversionWarning: A column-vector y was passed when a 1d array was expected. Please change the shape of y to (n_samples,), for example using ravel().\n",
            "  return self._fit(X, y)\n",
            "/usr/local/lib/python3.7/dist-packages/sklearn/neighbors/_classification.py:198: DataConversionWarning: A column-vector y was passed when a 1d array was expected. Please change the shape of y to (n_samples,), for example using ravel().\n",
            "  return self._fit(X, y)\n",
            "/usr/local/lib/python3.7/dist-packages/sklearn/neighbors/_classification.py:198: DataConversionWarning: A column-vector y was passed when a 1d array was expected. Please change the shape of y to (n_samples,), for example using ravel().\n",
            "  return self._fit(X, y)\n",
            "/usr/local/lib/python3.7/dist-packages/sklearn/neighbors/_classification.py:198: DataConversionWarning: A column-vector y was passed when a 1d array was expected. Please change the shape of y to (n_samples,), for example using ravel().\n",
            "  return self._fit(X, y)\n",
            "/usr/local/lib/python3.7/dist-packages/sklearn/neighbors/_classification.py:198: DataConversionWarning: A column-vector y was passed when a 1d array was expected. Please change the shape of y to (n_samples,), for example using ravel().\n",
            "  return self._fit(X, y)\n",
            "/usr/local/lib/python3.7/dist-packages/sklearn/neighbors/_classification.py:198: DataConversionWarning: A column-vector y was passed when a 1d array was expected. Please change the shape of y to (n_samples,), for example using ravel().\n",
            "  return self._fit(X, y)\n",
            "/usr/local/lib/python3.7/dist-packages/sklearn/neighbors/_classification.py:198: DataConversionWarning: A column-vector y was passed when a 1d array was expected. Please change the shape of y to (n_samples,), for example using ravel().\n",
            "  return self._fit(X, y)\n"
          ]
        },
        {
          "output_type": "display_data",
          "data": {
            "text/plain": [
              "<Figure size 432x288 with 1 Axes>"
            ],
            "image/png": "[encoded data removed]"
          },
          "metadata": {
            "needs_background": "light"
          }
        }
      ]
    }
  ],
  "metadata": {
    "colab": {
      "provenance": [],
      "include_colab_link": true
    },
    "kernelspec": {
      "display_name": "Python 3",
      "name": "python3"
    },
    "language_info": {
      "name": "python"
    }
  },
  "nbformat": 4,
  "nbformat_minor": 0
}